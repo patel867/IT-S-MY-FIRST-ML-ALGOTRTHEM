{
 "cells": [
  {
   "cell_type": "code",
   "execution_count": 4,
   "id": "f49a785b-7821-4cf8-978d-d021c2e05bca",
   "metadata": {
    "scrolled": true
   },
   "outputs": [
    {
     "ename": "SyntaxError",
     "evalue": "cannot assign to function call here. Maybe you meant '==' instead of '='? (1361435915.py, line 43)",
     "output_type": "error",
     "traceback": [
      "\u001b[1;36m  Cell \u001b[1;32mIn[4], line 43\u001b[1;36m\u001b[0m\n\u001b[1;33m    f(w,b)(x^(i)) = wx^(i) + b\u001b[0m\n\u001b[1;37m    ^\u001b[0m\n\u001b[1;31mSyntaxError\u001b[0m\u001b[1;31m:\u001b[0m cannot assign to function call here. Maybe you meant '==' instead of '='?\n"
     ]
    }
   ],
   "source": [
    "#Model Representation\n",
    "import numpy as np\n",
    "import matplotlib.pyplot as plt\n",
    "plt.style.use(\"here it will contain the url path of style file\")   #function allows you to define the aesthetics of your plots (like colors, line widths, font sizes, etc.) for consistency and publication-quality figures\n",
    "\n",
    "#Problem Statement of housing prices\n",
    "\n",
    "x_train=np.array([1.0,2.0])\n",
    "#x_train is an input variable(size in 1000 sqf)\n",
    "y_train=np.array([1000,2000])\n",
    "#y_train is the target(price in 1000 dollars)\n",
    "print(f\"x_train:{x_train}\")\n",
    "print(f\"y_train:{y_train}\")\n",
    "\n",
    "\n",
    "# 2.number of train examples  in the table of housing price\n",
    "print(f\"x_train.shape:{x_train.shape}\")\n",
    "m=x_train.shape \n",
    "#x_train.shape[0] is the length of the array and number of examples\n",
    "print(f\"number of training example are:{m}\")\n",
    "# one can also use len() fuction\n",
    "m=len(x_train)\n",
    "print(f\"the num of training example are:{m}\")\n",
    "\n",
    "\n",
    "# 3.Training example x_i, y_i\n",
    "# (x(i), y(i)) to denote the ith training example\n",
    "i=0\n",
    "x_i=x_train\n",
    "y_i=y_train\n",
    "print(f\"(x^({i}),y^({i}))=({x_i},{y_i})\")\n",
    "\n",
    "\n",
    "#4.plotting data\n",
    "plt.scatter(x_train,y_train,marker='x',c='r')  #plotting the data point \n",
    "plt.title(\"housing price\")     #setting the title\n",
    "plt.ylabel(\"price(in dollar)\")   #setting the y-axis label\n",
    "plt.xlabel(\"size(in  sq)\")       #setting the x-axis label\n",
    "plt.show()\n",
    "\n",
    "\n",
    "# 5. model function\n",
    "f(w,b)(x^(i)) = wx^(i) + b\n",
    "#The formula above is how you can represent straight lines - different values of w and b give you\n",
    "#different straight lines on the plot.\n",
    "w=100\n",
    "b=200\n",
    "print(f\"w:{w}\")\n",
    "print(f\"b:{b}\")\n",
    "#example for x(0), f_wb = w * x[0] + b\n",
    "#for x(1), f_wb = w * x[1] + b\n",
    "\n",
    "\n",
    "def compute_model_output(x,w,b):\n",
    "    m=x.shape[0]        # m represent nd.array \n",
    "    f_wb=np.zeros[m]  #np.zero(n) will return a one-dimensional numpy array with n entries\n",
    "    for i in range(m):\n",
    "        f_wb[i]=w*x[i]+b\n",
    "    return f_wb\n",
    "\n",
    "tmp_f_wb=compute_model_output(x_train,w,b)   #function call\n",
    "#plot the model predition\n",
    "plt.outmodelprediction(x_train,tmp_f_wb,c='b',label='our prediction')\n",
    "#plot data points\n",
    "plt.scatter(x_train,y_train,marker='x',c='r',label='actual value')\n",
    "#plot the y axis\n",
    "plt.y_label(\"price(in 1000's of dollar)\")\n",
    "#plot the x-axis\n",
    "plt.x_label(\"size(in 1000 sqf)\")\n",
    "plt.legend()\n",
    "plt.show()\n",
    "\n",
    "\n",
    "#lets predict the cost price value\n",
    "w=200\n",
    "b=100\n",
    "x_i=2.5\n",
    "cost_pricew*x_i+b\n",
    "print(f\"{cost_price}dollar's is the price\")\n",
    "             \n",
    "                "
   ]
  },
  {
   "cell_type": "code",
   "execution_count": null,
   "id": "ac296ae7-00a1-4f43-b8c5-9ee406ffd77c",
   "metadata": {},
   "outputs": [],
   "source": []
  }
 ],
 "metadata": {
  "kernelspec": {
   "display_name": "Python 3 (ipykernel)",
   "language": "python",
   "name": "python3"
  },
  "language_info": {
   "codemirror_mode": {
    "name": "ipython",
    "version": 3
   },
   "file_extension": ".py",
   "mimetype": "text/x-python",
   "name": "python",
   "nbconvert_exporter": "python",
   "pygments_lexer": "ipython3",
   "version": "3.11.7"
  }
 },
 "nbformat": 4,
 "nbformat_minor": 5
}
