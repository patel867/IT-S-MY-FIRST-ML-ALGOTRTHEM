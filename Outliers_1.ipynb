{
 "cells": [
  {
   "cell_type": "markdown",
   "id": "9fb090ec-57f1-414f-b6ce-23f90113bbff",
   "metadata": {},
   "source": [
    "# Detecting the outliers\n",
    "  3 ways\n",
    "1.Sorting data.\n",
    "2.Drawing graphs/ plots.\n",
    "3.Inter Quartile Range(IQR)method.\n",
    "Q.finding the outliers in the 'Ariculture'column in the solid waste generation dataset and show how to handle it "
   ]
  },
  {
   "cell_type": "code",
   "execution_count": 429,
   "id": "89889c2b-4974-47b2-aae9-04f0987734bd",
   "metadata": {},
   "outputs": [
    {
     "name": "stdout",
     "output_type": "stream",
     "text": [
      "(16, 16)\n"
     ]
    }
   ],
   "source": [
    "import pandas as pd             #pandas use for data manipulation\n",
    "import numpy as np                 \n",
    "import seaborn as sns            # seaborn use for creating statistical data visualizations.\n",
    "#read the data from the dataset into dataframe\n",
    "data=pd.read_csv(\"F:\\machine learning\\solid_waste_generation_recycling.1__csv__file.csv\")\n",
    "#keeping the original data into df1\n",
    "df=data\n",
    "#finding the no.of rows and columns in the datasets\n",
    "print(df.shape)\n"
   ]
  },
  {
   "cell_type": "code",
   "execution_count": 430,
   "id": "f660c726-0f0a-4ed0-926c-89da904e85f9",
   "metadata": {},
   "outputs": [
    {
     "data": {
      "text/plain": [
       "1     12540.0\n",
       "2     12718.0\n",
       "8     12842.0\n",
       "11    13115.0\n",
       "12    13635.0\n",
       "Name: Aluminum Cans, dtype: float64"
      ]
     },
     "execution_count": 430,
     "metadata": {},
     "output_type": "execute_result"
    }
   ],
   "source": [
    "#finding the outliers by sorting column\n",
    "df=data.sort_values('Aluminum Cans')\n",
    "#display the first five rows .The head() method is a powerful enchantment. When invoked on a DataFrame or Series, it reveals the first few rows (by default, the top 5 rows) of that data.\n",
    "df['Aluminum Cans'].head()   "
   ]
  },
  {
   "cell_type": "code",
   "execution_count": 431,
   "id": "c40e6a09-67ab-4a10-80c3-c94d460fead7",
   "metadata": {},
   "outputs": [
    {
     "data": {
      "text/plain": [
       "13    16679.0\n",
       "3     17608.0\n",
       "0     17994.0\n",
       "9     21098.0\n",
       "15        NaN\n",
       "Name: Aluminum Cans, dtype: float64"
      ]
     },
     "execution_count": 431,
     "metadata": {},
     "output_type": "execute_result"
    }
   ],
   "source": [
    "#display the last five rows \n",
    "df['Aluminum Cans'].tail()"
   ]
  },
  {
   "cell_type": "markdown",
   "id": "34870fc0-1ad4-457f-93af-662043fd4ce6",
   "metadata": {},
   "source": [
    "Can observe the last row contains abnormal value, i.e  21098"
   ]
  },
  {
   "cell_type": "markdown",
   "id": "8769bdf0-7fb4-4189-b7b5-abc8871149ce",
   "metadata": {},
   "source": [
    "Finding outliers by drawing graphs/plots"
   ]
  },
  {
   "cell_type": "code",
   "execution_count": 434,
   "id": "a70fe1e0-80b0-4093-b449-6da93b576ba0",
   "metadata": {},
   "outputs": [
    {
     "name": "stderr",
     "output_type": "stream",
     "text": [
      "C:\\Users\\admin\\anaconda3\\Lib\\site-packages\\seaborn\\_oldcore.py:1119: FutureWarning: use_inf_as_na option is deprecated and will be removed in a future version. Convert inf values to NaN before operating instead.\n",
      "  with pd.option_context('mode.use_inf_as_na', True):\n"
     ]
    },
    {
     "data": {
      "text/plain": [
       "<seaborn.axisgrid.FacetGrid at 0x19b0eb90390>"
      ]
     },
     "execution_count": 434,
     "metadata": {},
     "output_type": "execute_result"
    },
    {
     "data": {
      "image/png": "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",
      "text/plain": [
       "<Figure size 640x480 with 1 Axes>"
      ]
     },
     "metadata": {},
     "output_type": "display_data"
    },
    {
     "data": {
      "image/png": "iVBORw0KGgoAAAANSUhEUgAAAeoAAAHpCAYAAABN+X+UAAAAOXRFWHRTb2Z0d2FyZQBNYXRwbG90bGliIHZlcnNpb24zLjguMCwgaHR0cHM6Ly9tYXRwbG90bGliLm9yZy81sbWrAAAACXBIWXMAAA9hAAAPYQGoP6dpAAAvv0lEQVR4nO3df1xVdZ7H8fdVFKgAfxC/EgRLETG1RTdx/VUUpmm2ufOoJs1+PsYSTcls0WnNZhvcHmrk+IOxRRnXLdsd1Nw0RypBTaz4lVpo1pg4zCWiUVEyfsjZP1rvdgVREDhf8vV8PM7j0fd7vt9zPufLjG/uufdyHJZlWQIAAEbqYHcBAADg4ghqAAAMRlADAGAwghoAAIMR1AAAGIygBgDAYAQ1AAAGu+qC2rIsVVRUiK+PAwDag6suqE+fPi0/Pz+dPn3a7lIAALikqy6oAQBoTwhqAAAMRlADAGAwghoAAIMR1AAAGIygBgDAYAQ1AAAGI6gBADAYQQ0AgMEIagAADEZQAwBgMIIaAACDEdQAABiMoAYAwGAENQAABiOoAQAwmDFBnZycLIfDoVmzZjU6Ljs7WzExMfLy8lKvXr2UmpraNgUCAGADI4L6k08+0erVqzVgwIBGxx09elTjxo3TiBEjVFBQoHnz5mnmzJnKyMhoo0oBAGhbHnYXcObMGT300EN6/fXX9a//+q+Njk1NTVVYWJhSUlIkSVFRUcrNzdXixYs1adKkBudUVVWpqqrK1a6oqGix2iWpuLhY5eXlLXrMluDv76+wsDC7ywAAXCHbg3r69Om6++67dccdd1wyqHNychQfH+/WN2bMGKWlpammpkadOnWqNyc5OVkLFy5s0ZrPKy4uVt++UTp79vtWOf6V8Pa+RocOFRHWANDO2RrUGzZsUH5+vj755JPLGl9aWqrAwEC3vsDAQNXW1qq8vFzBwcH15iQlJSkxMdHVrqioUGho6JUV/n/Ky8t19uz3uvWxBfINDm+RY7aECufX+mjNQpWXlxPUANDO2RbUx48f1zPPPKMdO3bIy8vrsuc5HA63tmVZDfaf5+npKU9Pz+YXehl8g8PVLSyyVc8BALg62RbUeXl5KisrU0xMjKvv3Llz2rVrl5YvX66qqip17NjRbU5QUJBKS0vd+srKyuTh4aHu3bu3Sd0AALQl24I6Li5OBw4ccOt79NFH1bdvXz3//PP1QlqSYmNj9T//8z9ufTt27NDgwYMbfH8aAID2zrag9vHxUf/+/d36rr32WnXv3t3Vn5SUpJKSEq1bt06SNG3aNC1fvlyJiYl68sknlZOTo7S0NL355pttXj8AAG3BiO9RX4zT6VRxcbGrHRERoW3btikrK0uDBg3Sb37zGy1btuyiX80CAKC9s/3rWT+VlZXl1k5PT683ZtSoUcrPz2+bggAAsJnRr6gBALjaEdQAABiMoAYAwGAENQAABiOoAQAwGEENAIDBCGoAAAxGUAMAYDCCGgAAgxHUAAAYjKAGAMBgBDUAAAYjqAEAMBhBDQCAwQhqAAAMRlADAGAwghoAAIMR1AAAGIygBgDAYAQ1AAAGI6gBADAYQQ0AgMEIagAADEZQAwBgMIIaAACDEdQAABiMoAYAwGAENQAABiOoAQAwGEENAIDBCGoAAAxGUAMAYDCCGgAAgxHUAAAYjKAGAMBgBDUAAAYjqAEAMBhBDQCAwQhqAAAMRlADAGAwW4N61apVGjBggHx9feXr66vY2Fi9++67Fx2flZUlh8NRbzt06FAbVg0AQNvxsPPkPXr00KJFi3TTTTdJkv7whz9o4sSJKigoUHR09EXnHT58WL6+vq729ddf3+q1AgBgB1uDesKECW7tl19+WatWrdK+ffsaDeqAgAB16dLlss5RVVWlqqoqV7uioqJZtQIAYAdj3qM+d+6cNmzYoMrKSsXGxjY69pZbblFwcLDi4uK0c+fORscmJyfLz8/PtYWGhrZk2QAAtCrbg/rAgQO67rrr5OnpqWnTpmnTpk3q169fg2ODg4O1evVqZWRkaOPGjYqMjFRcXJx27dp10eMnJSXp1KlTru348eOtdSkAALQ4W299S1JkZKQKCwt18uRJZWRkaOrUqcrOzm4wrCMjIxUZGelqx8bG6vjx41q8eLFGjhzZ4PE9PT3l6enZavUDANCabH9F3blzZ910000aPHiwkpOTNXDgQL322muXPX/o0KE6cuRIK1YIAIB9bA/qC1mW5fbhr0spKChQcHBwK1YEAIB9bL31PW/ePI0dO1ahoaE6ffq0NmzYoKysLG3fvl3Sj+8vl5SUaN26dZKklJQUhYeHKzo6WtXV1Vq/fr0yMjKUkZFh52UAANBqbA3qb775RlOmTJHT6ZSfn58GDBig7du3684775QkOZ1OFRcXu8ZXV1drzpw5Kikpkbe3t6Kjo7V161aNGzfOrksAAKBV2RrUaWlpje5PT093a8+dO1dz585txYoAADCLce9RAwCA/0dQAwBgMIIaAACDEdQAABiMoAYAwGAENQAABiOoAQAwGEENAIDBCGoAAAxGUAMAYDCCGgAAgxHUAAAYjKAGAMBgBDUAAAYjqAEAMBhBDQCAwQhqAAAMRlADAGAwghoAAIMR1AAAGIygBgDAYAQ1AAAGI6gBADAYQQ0AgMEIagAADEZQAwBgMIIaAACDEdQAABiMoAYAwGAENQAABiOoAQAwGEENAIDBCGoAAAxGUAMAYDCCGgAAgxHUAAAYjKAGAMBgBDUAAAYjqAEAMJitQb1q1SoNGDBAvr6+8vX1VWxsrN59991G52RnZysmJkZeXl7q1auXUlNT26haAADanq1B3aNHDy1atEi5ubnKzc3V7bffrokTJ+qzzz5rcPzRo0c1btw4jRgxQgUFBZo3b55mzpypjIyMNq4cAIC24WHnySdMmODWfvnll7Vq1Srt27dP0dHR9canpqYqLCxMKSkpkqSoqCjl5uZq8eLFmjRpUluUDABAm7I1qH/q3Llz+u///m9VVlYqNja2wTE5OTmKj4936xszZozS0tJUU1OjTp061ZtTVVWlqqoqV7uioqJlCzdYUVGR3SU0yN/fX2FhYXaXAQDtgu1BfeDAAcXGxuqHH37Qddddp02bNqlfv34Nji0tLVVgYKBbX2BgoGpra1VeXq7g4OB6c5KTk7Vw4cJWqd1UZ099J8mhyZMn211Kg7y9r9GhQ0WENQBcBtuDOjIyUoWFhTp58qQyMjI0depUZWdnXzSsHQ6HW9uyrAb7z0tKSlJiYqKrXVFRodDQ0Baq3kw135+WZGnQL5/X9RF97S7HTYXza320ZqHKy8sJagC4DLYHdefOnXXTTTdJkgYPHqxPPvlEr732mn7/+9/XGxsUFKTS0lK3vrKyMnl4eKh79+4NHt/T01Oenp4tX3g7cF1AmLqFRdpdBgDgChj3PWrLstzeU/6p2NhYZWZmuvXt2LFDgwcPbvD9aQAA2jtbg3revHnavXu3vv76ax04cEDz589XVlaWHnroIUk/3rZ++OGHXeOnTZumY8eOKTExUUVFRVqzZo3S0tI0Z84cuy4BAIBWZeut72+++UZTpkyR0+mUn5+fBgwYoO3bt+vOO++UJDmdThUXF7vGR0REaNu2bZo9e7ZWrFihkJAQLVu2jK9mAQB+tmwN6rS0tEb3p6en1+sbNWqU8vPzW6kiAADMYtx71AAA4P8R1AAAGIygBgDAYAQ1AAAGI6gBADAYQQ0AgMEIagAADEZQAwBgMIIaAACDEdQAABiMoAYAwGAENQAABiOoAQAwGEENAIDBCGoAAAxGUAMAYDCCGgAAgxHUAAAYjKAGAMBgBDUAAAYjqAEAMBhBDQCAwQhqAAAMRlADAGAwghoAAIMR1AAAGIygBgDAYAQ1AAAGI6gBADAYQQ0AgMEIagAADEZQAwBgMIIaAACDEdQAABiMoAYAwGAENQAABiOoAQAwGEENAIDBCGoAAAxGUAMAYDBbgzo5OVlDhgyRj4+PAgICdO+99+rw4cONzsnKypLD4ai3HTp0qI2qBgCg7dga1NnZ2Zo+fbr27dunzMxM1dbWKj4+XpWVlZece/jwYTmdTtfWu3fvNqgYAIC25WHnybdv3+7WXrt2rQICApSXl6eRI0c2OjcgIEBdunRpxeoAALCfUe9Rnzp1SpLUrVu3S4695ZZbFBwcrLi4OO3cufOi46qqqlRRUeG2AQDQXhgT1JZlKTExUcOHD1f//v0vOi44OFirV69WRkaGNm7cqMjISMXFxWnXrl0Njk9OTpafn59rCw0Nba1LAACgxdl66/unEhIStH//fu3Zs6fRcZGRkYqMjHS1Y2Njdfz4cS1evLjB2+VJSUlKTEx0tSsqKghrAEC7YcQr6hkzZmjLli3auXOnevTo0eT5Q4cO1ZEjRxrc5+npKV9fX7cNAID2wtZX1JZlacaMGdq0aZOysrIUERHRrOMUFBQoODi4hasDAMB+tgb19OnT9cYbb+jtt9+Wj4+PSktLJUl+fn7y9vaW9OOt65KSEq1bt06SlJKSovDwcEVHR6u6ulrr169XRkaGMjIybLsOAABai61BvWrVKknS6NGj3frXrl2rRx55RJLkdDpVXFzs2lddXa05c+aopKRE3t7eio6O1tatWzVu3Li2KhsAgDZj+63vS0lPT3drz507V3Pnzm2ligAAMIsRHyYDAAANI6gBADAYQQ0AgMEIagAADEZQAwBgMIIaAACDEdQAABiMoAYAwGAENQAABiOoAQAwGEENAIDBCGoAAAxGUAMAYDCCGgAAgxHUAAAYjKAGAMBgzQrqXr166bvvvqvXf/LkSfXq1euKiwIAAD9qVlB//fXXOnfuXL3+qqoqlZSUXHFRAADgRx5NGbxlyxbXf//pT3+Sn5+fq33u3Dm9//77Cg8Pb7HiAAC42jUpqO+9915JksPh0NSpU932derUSeHh4VqyZEmLFQcAwNWuSUFdV1cnSYqIiNAnn3wif3//VikKAAD8qElBfd7Ro0dbug4AANCAZgW1JL3//vt6//33VVZW5nqlfd6aNWuuuDAAANDMoF64cKFeeuklDR48WMHBwXI4HC1dFwAAUDODOjU1Venp6ZoyZUpL1wMAAH6iWd+jrq6u1rBhw1q6FgAAcIFmBfUTTzyhN954o6VrAQAAF2jWre8ffvhBq1ev1nvvvacBAwaoU6dObvuXLl3aIsUBAHC1a1ZQ79+/X4MGDZIkHTx40G0fHywDAKDlNCuod+7c2dJ1AACABvCYSwAADNasV9S33XZbo7e4P/jgg2YXBAAA/l+zgvr8+9Pn1dTUqLCwUAcPHqz3sA4AANB8zQrqV199tcH+F198UWfOnLmiggAAwP9r0feoJ0+ezN/5BgCgBbVoUOfk5MjLy6slDwkAwFWtWbe+77vvPre2ZVlyOp3Kzc3VCy+80CKFAQCAZga1n5+fW7tDhw6KjIzUSy+9pPj4+BYpDAAANDOo165d29J1AACABjQrqM/Ly8tTUVGRHA6H+vXrp1tuuaWl6gIAAGrmh8nKysp0++23a8iQIZo5c6YSEhIUExOjuLg4ffvtt5d9nOTkZA0ZMkQ+Pj4KCAjQvffeq8OHD19yXnZ2tmJiYuTl5aVevXopNTW1OZcBAIDxmhXUM2bMUEVFhT777DP97W9/04kTJ3Tw4EFVVFRo5syZl32c7OxsTZ8+Xfv27VNmZqZqa2sVHx+vysrKi845evSoxo0bpxEjRqigoEDz5s3TzJkzlZGR0ZxLAQDAaM269b19+3a99957ioqKcvX169dPK1asaNKHybZv3+7WXrt2rQICApSXl6eRI0c2OCc1NVVhYWFKSUmRJEVFRSk3N1eLFy/WpEmTmn4xAAAYrFlBXVdXV+8Z1JLUqVMn1dXVNbuYU6dOSZK6det20TE5OTn1fhkYM2aM0tLSVFNTU6+uqqoqVVVVudoVFRXNrg8tp6ioyO4S6vH391dYWJjdZdRTXFys8vJyu8uox9T1An5umhXUt99+u5555hm9+eabCgkJkSSVlJRo9uzZiouLa1YhlmUpMTFRw4cPV//+/S86rrS0VIGBgW59gYGBqq2tVXl5uYKDg932JScna+HChc2qCS3v7KnvJDk0efJku0upx9v7Gh06VGRU+BQXF6tv3yidPfu93aXUY+J6AT9HzQrq5cuXa+LEiQoPD1doaKgcDoeKi4t18803a/369c0qJCEhQfv379eePXsuOfbCJ3dZltVgvyQlJSUpMTHR1a6oqFBoaGizasSVq/n+tCRLg375vK6P6Gt3OS4Vzq/10ZqFKi8vNyp4ysvLdfbs97r1sQXyDQ63uxwXU9cL+DlqVlCHhoYqPz9fmZmZOnTokCzLUr9+/XTHHXc0q4gZM2Zoy5Yt2rVrl3r06NHo2KCgIJWWlrr1lZWVycPDQ927d6833tPTU56ens2qC63nuoAwdQuLtLuMdsM3OJz1Aq5STfrU9wcffKB+/fq53ue98847NWPGDM2cOVNDhgxRdHS0du/efdnHsyxLCQkJ2rhxoz744ANFRERcck5sbKwyMzPd+nbs2KHBgwc3+L45AADtWZOCOiUlRU8++aR8fX3r7fPz89OvfvUrLV269LKPN336dK1fv15vvPGGfHx8VFpaqtLSUp09e9Y1JikpSQ8//LCrPW3aNB07dkyJiYkqKirSmjVrlJaWpjlz5jTlUgAAaBeaFNSffvqp7rrrrovuj4+PV15e3mUfb9WqVTp16pRGjx6t4OBg1/bWW2+5xjidThUXF7vaERER2rZtm7KysjRo0CD95je/0bJly/hqFgDgZ6lJ71F/8803jd5e9vDwaNJfJjv/IbDGpKen1+sbNWqU8vPzL/s8AAC0V016RX3DDTfowIEDF92/f//+el+PAgAAzdekoB43bpz+5V/+RT/88EO9fWfPntWCBQs0fvz4FisOAICrXZNuff/617/Wxo0b1adPHyUkJCgyMlIOh0NFRUVasWKFzp07p/nz57dWrQAAXHWaFNSBgYHau3evnnrqKSUlJbn9oZExY8Zo5cqV9f5qGAAAaL4m/8GTnj17atu2bTpx4oS+/PJLWZal3r17q2vXrq1RHwAAV7Vm/WUySeratauGDBnSkrUAAIALNOt51AAAoG0Q1AAAGIygBgDAYAQ1AAAGI6gBADAYQQ0AgMEIagAADEZQAwBgMIIaAACDEdQAABiMoAYAwGAENQAABiOoAQAwGEENAIDBCGoAAAxGUAMAYDCCGgAAgxHUAAAYjKAGAMBgBDUAAAYjqAEAMBhBDQCAwQhqAAAMRlADAGAwghoAAIMR1AAAGIygBgDAYAQ1AAAGI6gBADAYQQ0AgMEIagAADEZQAwBgMIIaAACDEdQAABjM1qDetWuXJkyYoJCQEDkcDm3evLnR8VlZWXI4HPW2Q4cOtU3BAAC0MQ87T15ZWamBAwfq0Ucf1aRJky573uHDh+Xr6+tqX3/99a1RHgAAtrM1qMeOHauxY8c2eV5AQIC6dOlyWWOrqqpUVVXlaldUVDT5fAAA2KVdvkd9yy23KDg4WHFxcdq5c2ejY5OTk+Xn5+faQkND26hKAACuXLsK6uDgYK1evVoZGRnauHGjIiMjFRcXp127dl10TlJSkk6dOuXajh8/3oYVAwBwZWy99d1UkZGRioyMdLVjY2N1/PhxLV68WCNHjmxwjqenpzw9PduqRAAAWlS7ekXdkKFDh+rIkSN2lwEAQKto90FdUFCg4OBgu8sAAKBV2Hrr+8yZM/ryyy9d7aNHj6qwsFDdunVTWFiYkpKSVFJSonXr1kmSUlJSFB4erujoaFVXV2v9+vXKyMhQRkaGXZcAAECrsjWoc3Nzddttt7naiYmJkqSpU6cqPT1dTqdTxcXFrv3V1dWaM2eOSkpK5O3trejoaG3dulXjxo1r89oBAGgLtgb16NGjZVnWRfenp6e7tefOnau5c+e2clUAAJij3b9HDQDAzxlBDQCAwQhqAAAMRlADAGAwghoAAIMR1AAAGIygBgDAYAQ1AAAGI6gBADAYQQ0AgMEIagAADEZQAwBgMIIaAACDEdQAABiMoAYAwGAENQAABiOoAQAwGEENAIDBCGoAAAxGUAMAYDCCGgAAgxHUAAAYjKAGAMBgBDUAAAYjqAEAMBhBDQCAwQhqAAAMRlADAGAwghoAAIMR1AAAGIygBgDAYAQ1AAAGI6gBADAYQQ0AgMEIagAADEZQAwBgMIIaAACDEdQAABiMoAYAwGAENQAABrM1qHft2qUJEyYoJCREDodDmzdvvuSc7OxsxcTEyMvLS7169VJqamrrFwoAgE1sDerKykoNHDhQy5cvv6zxR48e1bhx4zRixAgVFBRo3rx5mjlzpjIyMlq5UgAA7OFh58nHjh2rsWPHXvb41NRUhYWFKSUlRZIUFRWl3NxcLV68WJMmTWpwTlVVlaqqqlztioqKK6oZP29FRUV2l+DGtHouZGJ9VVVV8vT0tLuMevz9/RUWFmZ3Ge1GcXGxysvL7S6jHjt+jrYGdVPl5OQoPj7erW/MmDFKS0tTTU2NOnXqVG9OcnKyFi5c2FYlop06e+o7SQ5NnjzZ7lIaVFNVbXcJboxeL4dDsiy7q6jH2/saHTpURFhfhuLiYvXtG6WzZ7+3u5R67Pg5tqugLi0tVWBgoFtfYGCgamtrVV5eruDg4HpzkpKSlJiY6GpXVFQoNDS01WtF+1Lz/WlJlgb98nldH9HX7nJcnAdydHDLatXW1tpdihvT18u0uiqcX+ujNQtVXl5OUF+G8vJynT37vW59bIF8g8PtLsfFrp9juwpqSXI4HG5t6/9+c76w/zxPT08jb4PBTNcFhKlbWKTdZbhUOL+2u4RGmbpeptWF5vENDufnqHb29aygoCCVlpa69ZWVlcnDw0Pdu3e3qSoAAFpPuwrq2NhYZWZmuvXt2LFDgwcPbvD9aQAA2jtbg/rMmTMqLCxUYWGhpB+/flVYWKji4mJJP76//PDDD7vGT5s2TceOHVNiYqKKioq0Zs0apaWlac6cOXaUDwBAq7P1Perc3Fzddtttrvb5D31NnTpV6enpcjqdrtCWpIiICG3btk2zZ8/WihUrFBISomXLll30q1kAALR3tgb16NGjXR8Ga0h6enq9vlGjRik/P78VqwIAwBzt6j1qAACuNgQ1AAAGI6gBADAYQQ0AgMEIagAADEZQAwBgMIIaAACDEdQAABiMoAYAwGAENQAABiOoAQAwGEENAIDBCGoAAAxGUAMAYDCCGgAAgxHUAAAYjKAGAMBgBDUAAAYjqAEAMBhBDQCAwQhqAAAMRlADAGAwghoAAIMR1AAAGIygBgDAYAQ1AAAGI6gBADAYQQ0AgMEIagAADEZQAwBgMIIaAACDEdQAABiMoAYAwGAENQAABiOoAQAwGEENAIDBCGoAAAxGUAMAYDCCGgAAg9ke1CtXrlRERIS8vLwUExOj3bt3X3RsVlaWHA5Hve3QoUNtWDEAAG3H1qB+6623NGvWLM2fP18FBQUaMWKExo4dq+Li4kbnHT58WE6n07X17t27jSoGAKBt2RrUS5cu1eOPP64nnnhCUVFRSklJUWhoqFatWtXovICAAAUFBbm2jh07tlHFAAC0LduCurq6Wnl5eYqPj3frj4+P1969exude8sttyg4OFhxcXHauXNno2OrqqpUUVHhtgEA0F7YFtTl5eU6d+6cAgMD3foDAwNVWlra4Jzg4GCtXr1aGRkZ2rhxoyIjIxUXF6ddu3Zd9DzJycny8/NzbaGhoS16HQAAtCYPuwtwOBxubcuy6vWdFxkZqcjISFc7NjZWx48f1+LFizVy5MgG5yQlJSkxMdHVrqioIKwBAO2Gba+o/f391bFjx3qvnsvKyuq9ym7M0KFDdeTIkYvu9/T0lK+vr9sGAEB7YVtQd+7cWTExMcrMzHTrz8zM1LBhwy77OAUFBQoODm7p8gAAMIKtt74TExM1ZcoUDR48WLGxsVq9erWKi4s1bdo0ST/eti4pKdG6deskSSkpKQoPD1d0dLSqq6u1fv16ZWRkKCMjw87LAACg1dga1Pfff7++++47vfTSS3I6nerfv7+2bdumnj17SpKcTqfbd6qrq6s1Z84clZSUyNvbW9HR0dq6davGjRtn1yUAANCqbP8w2dNPP62nn366wX3p6elu7blz52ru3LltUBUAAGaw/U+IAgCAiyOoAQAwGEENAIDBCGoAAAxGUAMAYDCCGgAAgxHUAAAYjKAGAMBgBDUAAAYjqAEAMBhBDQCAwQhqAAAMRlADAGAwghoAAIMR1AAAGIygBgDAYAQ1AAAGI6gBADAYQQ0AgMEIagAADEZQAwBgMIIaAACDEdQAABiMoAYAwGAENQAABiOoAQAwGEENAIDBCGoAAAxGUAMAYDCCGgAAgxHUAAAYjKAGAMBgBDUAAAYjqAEAMBhBDQCAwQhqAAAMRlADAGAwghoAAIMR1AAAGIygBgDAYLYH9cqVKxURESEvLy/FxMRo9+7djY7Pzs5WTEyMvLy81KtXL6WmprZRpQAAtD1bg/qtt97SrFmzNH/+fBUUFGjEiBEaO3asiouLGxx/9OhRjRs3TiNGjFBBQYHmzZunmTNnKiMjo40rBwCgbdga1EuXLtXjjz+uJ554QlFRUUpJSVFoaKhWrVrV4PjU1FSFhYUpJSVFUVFReuKJJ/TYY49p8eLFbVw5AABtw8OuE1dXVysvL0///M//7NYfHx+vvXv3NjgnJydH8fHxbn1jxoxRWlqaampq1KlTp3pzqqqqVFVV5WqfOnVKklRRUXGll6AzZ85Ikv527LBqq85e8fFaSoXzmCTpVMkRdfJw2FyNO1Nro66moa6mqSj98S5hXl6e698NU3To0EF1dXV2l+Hm8OHDkgz8t/X/fo5nzpxpkQyRJB8fHzkcl/jfqmWTkpISS5L14YcfuvW//PLLVp8+fRqc07t3b+vll1926/vwww8tSdZf//rXBucsWLDAksTGxsbGxmbcdurUqUvmpW2vqM+78DcJy7Ia/e2iofEN9Z+XlJSkxMREV7uurk5/+9vf1L1790v/FoNLqqioUGhoqI4fPy5fX1+7y/lZYo1bH2vc+ljjhvn4+FxyjG1B7e/vr44dO6q0tNStv6ysTIGBgQ3OCQoKanC8h4eHunfv3uAcT09PeXp6uvV16dKl+YWjQb6+vvyfr5Wxxq2PNW59rHHT2fZhss6dOysmJkaZmZlu/ZmZmRo2bFiDc2JjY+uN37FjhwYPHtzg+9MAALR3tn7qOzExUf/+7/+uNWvWqKioSLNnz1ZxcbGmTZsm6cfb1g8//LBr/LRp03Ts2DElJiaqqKhIa9asUVpamubMmWPXJQAA0KpsfY/6/vvv13fffaeXXnpJTqdT/fv317Zt29SzZ09JktPpdPtOdUREhLZt26bZs2drxYoVCgkJ0bJlyzRp0iS7LuGq5+npqQULFtR7ewEthzVufaxx62ONm89hnf80FgAAMI7tf0IUAABcHEENAIDBCGoAAAxGUAMAYDCC+iq0a9cuTZgwQSEhIXI4HNq8efNFx/7qV7+Sw+FQSkqKW39VVZVmzJghf39/XXvttbrnnnv0l7/8xW3MiRMnNGXKFPn5+cnPz09TpkzRyZMn3cYUFxdrwoQJuvbaa+Xv76+ZM2equrq6ha7UPpezxkVFRbrnnnvk5+cnHx8fDR061O1bDqxx4y61xmfOnFFCQoJ69Oghb29vRUVF1XvgD2t8ccnJyRoyZIh8fHwUEBCge++91/U3uM+zLEsvvviiQkJC5O3trdGjR+uzzz5zG8MaXzmC+ipUWVmpgQMHavny5Y2O27x5sz766COFhITU2zdr1ixt2rRJGzZs0J49e3TmzBmNHz9e586dc4355S9/qcLCQm3fvl3bt29XYWGhpkyZ4tp/7tw53X333aqsrNSePXu0YcMGZWRk6Nlnn225i7XJpdb4q6++0vDhw9W3b19lZWXp008/1QsvvCAvLy/XGNa4cZda49mzZ2v79u1av3696+80zJgxQ2+//bZrDGt8cdnZ2Zo+fbr27dunzMxM1dbWKj4+XpWVla4xr7zyipYuXarly5frk08+UVBQkO68806dPn3aNYY1bgGXfnwGfs4kWZs2barX/5e//MW64YYbrIMHD1o9e/a0Xn31Vde+kydPWp06dbI2bNjg6ispKbE6dOhgbd++3bIsy/r8888tSda+fftcY3JycixJ1qFDhyzLsqxt27ZZHTp0sEpKSlxj3nzzTcvT0/Oy/lB9e9HQGt9///3W5MmTLzqHNW6ahtY4Ojraeumll9z6/u7v/s769a9/bVkWa9xUZWVlliQrOzvbsizLqqurs4KCgqxFixa5xvzwww+Wn5+flZqaalkWa9xSeEWNeurq6jRlyhQ999xzio6Orrc/Ly9PNTU1bo8cDQkJUf/+/V2PKM3JyZGfn59uvfVW15ihQ4fKz8/PbUz//v3dXrGPGTNGVVVVysvLa63Ls11dXZ22bt2qPn36aMyYMQoICNCtt97qduuWNb5yw4cP15YtW1RSUiLLsrRz50598cUXGjNmjCTWuKnOPyK4W7dukqSjR4+qtLTUbf08PT01atQo19qwxi2DoEY9//Zv/yYPDw/NnDmzwf2lpaXq3Lmzunbt6tYfGBjoemhKaWmpAgIC6s0NCAhwG3PhA1i6du2qzp0713v4ys9JWVmZzpw5o0WLFumuu+7Sjh079I//+I+67777lJ2dLYk1bgnLli1Tv3791KNHD3Xu3Fl33XWXVq5cqeHDh0tijZvCsiwlJiZq+PDh6t+/vyS5ru3Ca79w/VjjK2f7Yy5hlry8PL322mvKz89v8mNArQseUdrQ/OaM+bmpq6uTJE2cOFGzZ8+WJA0aNEh79+5VamqqRo0addG5rPHlW7Zsmfbt26ctW7aoZ8+e2rVrl55++mkFBwfrjjvuuOg81ri+hIQE7d+/X3v27Km3r6mPKm5oDGvcOF5Rw83u3btVVlamsLAweXh4yMPDQ8eOHdOzzz6r8PBwST8+brS6ulonTpxwm/vTR5QGBQXpm2++qXf8b7/91m3Mhb8NnzhxQjU1NRd91OnPgb+/vzw8PNSvXz+3/qioKNenvlnjK3P27FnNmzdPS5cu1YQJEzRgwAAlJCTo/vvv1+LFiyWxxpdrxowZ2rJli3bu3KkePXq4+oOCgiSp0UcVs8Ytg6CGmylTpmj//v0qLCx0bSEhIXruuef0pz/9SZIUExOjTp06uT1y1Ol06uDBg65HlMbGxurUqVP6+OOPXWM++ugjnTp1ym3MwYMH5XQ6XWN27NghT09PxcTEtMXl2qJz584aMmRIva+6fPHFF64H0rDGV6ampkY1NTXq0MH9n7iOHTu67miwxo2zLEsJCQnauHGjPvjgA0VERLjtj4iIUFBQkNv6VVdXKzs727U2rHELafvPr8Fup0+ftgoKCqyCggJLkrV06VKroKDAOnbsWIPjL/zUt2VZ1rRp06wePXpY7733npWfn2/dfvvt1sCBA63a2lrXmLvuussaMGCAlZOTY+Xk5Fg333yzNX78eNf+2tpaq3///lZcXJyVn59vvffee1aPHj2shISEVrnutnSpNd64caPVqVMna/Xq1daRI0es3/3ud1bHjh2t3bt3u47BGjfuUms8atQoKzo62tq5c6f15z//2Vq7dq3l5eVlrVy50nUM1vjinnrqKcvPz8/KysqynE6na/v+++9dYxYtWmT5+flZGzdutA4cOGA9+OCDVnBwsFVRUeEawxpfOYL6KrRz505LUr1t6tSpDY5vKKjPnj1rJSQkWN26dbO8vb2t8ePHW8XFxW5jvvvuO+uhhx6yfHx8LB8fH+uhhx6yTpw44Tbm2LFj1t133215e3tb3bp1sxISEqwffvihBa/WHpezxmlpadZNN91keXl5WQMHDrQ2b97sdgzWuHGXWmOn02k98sgjVkhIiOXl5WVFRkZaS5Ysserq6lzHYI0vrqG1lWStXbvWNaaurs5asGCBFRQUZHl6elojR460Dhw44HYc1vjK8ZhLAAAMxnvUAAAYjKAGAMBgBDUAAAYjqAEAMBhBDQCAwQhqAAAMRlADAGAwghoAAIMR1IABsrKy5HA4dPLkyVY9z9dffy2Hw6HCwsJWPQ+AlkNQA21k79696tixo+666y7baggNDZXT6XQ9U9hEX375pR599FH16NFDnp6eioiI0IMPPqjc3Fy7SwNsQVADbWTNmjWaMWOG9uzZ43qcZVvr2LGjgoKC5OFh5qPoc3NzFRMToy+++EK///3v9fnnn2vTpk3q27evnn32WbvLA2xBUANtoLKyUv/1X/+lp556SuPHj1d6enqj41988UUNGjTIrS8lJcX1THBJeuSRR3Tvvffqt7/9rQIDA9WlSxctXLhQtbW1eu6559StWzf16NFDa9ascc258Nb3+Vvu77//vgYPHqxrrrlGw4YNc3sE5/nz/NSsWbM0evRoV3v06NGaMWOGZs2apa5duyowMFCrV69WZWWlHn30Ufn4+OjGG2/Uu+++e9FrtixLjzzyiHr37q3du3fr7rvv1o033qhBgwZpwYIFevvtt11jn3/+efXp00fXXHONevXqpRdeeEE1NTX11u8//uM/FB4eLj8/Pz3wwAM6ffq0a8wf//hH3XzzzfL29lb37t11xx13qLKysrEfC2ALghpoA2+99ZYiIyMVGRmpyZMna+3atWqJ5+F88MEH+utf/6pdu3Zp6dKlevHFFzV+/Hh17dpVH330kaZNm6Zp06bp+PHjjR5n/vz5WrJkiXJzc+Xh4aHHHnusybX84Q9/kL+/vz7++GPNmDFDTz31lH7xi19o2LBhys/P15gxYzRlyhR9//33Dc4vLCzUZ599pmeffbbec6QlqUuXLq7/9vHxUXp6uj7//HO99tprev311/Xqq6+6jf/qq6+0efNmvfPOO3rnnXeUnZ2tRYsWSfrxmcgPPvigHnvsMRUVFSkrK0v33Xdfi/xMgBZn67O7gKvEsGHDrJSUFMuyLKumpsby9/e3MjMzXfvPP7Lx/KP9FixYYA0cONDtGK+++qrVs2dPV3vq1KlWz549rXPnzrn6IiMjrREjRrjatbW11rXXXmu9+eablmVZ1tGjRy1JVkFBgdt533vvPdecrVu3WpKss2fPus4zceJEt1qeeeYZa9SoUa72qFGjrOHDh9c775QpU1x9TqfTkmTl5OQ0uEZvvfWWJcnKz89vcH9jXnnlFSsmJsbVXrBggXXNNde4PRf5ueees2699VbLsiwrLy/PkmR9/fXXTT4X0NZ4RQ20ssOHD+vjjz/WAw88IEny8PDQ/fff73ZLurmio6PdXn0GBgbq5ptvdrU7duyo7t27q6ysrNHjDBgwwPXfwcHBknTJOY0d4/x5f1pLYGBgo8e1/u/VrMPhuOS5/vjHP2r48OEKCgrSddddpxdeeKHe+/7h4eHy8fFxtYODg13nHjhwoOLi4nTzzTfrF7/4hV5//XWdOHHiMq8UaFsENdDK0tLSVFtbqxtuuEEeHh7y8PDQqlWrtHHjxouGQ4cOHerdhv3pe7DnderUya3tcDga7Kurq2u0xp/OOR+U5+e0VC0XHvdCffr0kSQVFRU1Wuu+ffv0wAMPaOzYsXrnnXdUUFCg+fPnq7q6+pL1nD93x44dlZmZqXfffVf9+vXT7373O0VGRuro0aONnhuwA0ENtKLa2lqtW7dOS5YsUWFhoWv79NNP1bNnT/3nf/5ng/Ouv/56lZaWugWkXd99vv766+V0Ot36WqOWQYMGqV+/flqyZEmDYX7+O+Yffvihevbsqfnz52vw4MHq3bu3jh071uTzORwO/cM//IMWLlyogoICde7cWZs2bbrSywBaHEENtKJ33nlHJ06c0OOPP67+/fu7bf/0T/+ktLS0BueNHj1a3377rV555RV99dVXWrFiRaOfmG5Nt99+u3Jzc7Vu3TodOXJECxYs0MGDB1v8PA6HQ2vXrtUXX3yhkSNHatu2bfrzn/+s/fv36+WXX9bEiRMlSTfddJOKi4u1YcMGffXVV1q2bFmTA/ajjz7Sb3/7W+Xm5qq4uFgbN27Ut99+q6ioqBa/LuBKEdRAK0pLS9Mdd9whPz+/evsmTZqkwsJC5efn19sXFRWllStXasWKFRo4cKA+/vhjzZkzpy1KrmfMmDF64YUXNHfuXA0ZMkSnT5/Www8/3Crn+vu//3vl5ubqxhtv1JNPPqmoqCjdc889+uyzz5SSkiJJmjhxombPnq2EhAQNGjRIe/fu1QsvvNCk8/j6+mrXrl0aN26c+vTpo1//+tdasmSJxo4d2wpXBVwZh3Xhm08AAMAYvKIGAMBgBDUAAAYjqAEAMBhBDQCAwQhqAAAMRlADAGAwghoAAIMR1AAAGIygBgDAYAQ1AAAGI6gBADDY/wI7NQ6arCKNAAAAAABJRU5ErkJggg==",
      "text/plain": [
       "<Figure size 500x500 with 1 Axes>"
      ]
     },
     "metadata": {},
     "output_type": "display_data"
    }
   ],
   "source": [
    "#Finding outliers by drawing graphs/plots\n",
    "#from the below plot the outliers is atf around 21000\n",
    "sns.boxplot(data=data,x='Aluminum Cans')\n",
    "sns.displot(data=data,x='Aluminum Cans',bins=10)\n"
     #a box plot  is a visual enchantment used to represent the distribution of numerical data.

   ]
  },
  {
   "cell_type": "markdown",
   "id": "7950e4fc-62f0-476c-9ae0-6ab2054b3e95",
   "metadata": {},
   "source": [
    "The datapoint is away from the boxplot(at the right side).so we can understand the outlier is at around 21000"
   ]
  },
  {
   "cell_type": "markdown",
   "id": "6efd3aac-5fbe-421a-91f6-e99925d92e26",
   "metadata": {},
   "source": [
    "Showing distribution plot\n",
    "When using seaborn.displot(), the bins parameter allows you to control the number of bins or bar in the output histogram."
   ]
  },
  {
   "cell_type": "markdown",
   "id": "f5994955-be57-4038-a9ba-24931f0a89bf",
   "metadata": {},
   "source": [
    "# Inter Quartile Range(IQR) method\n",
    "It represents the range of  between 75th and 25th percentiles.\n",
    "Can be divided into 4 quartiles as:25th percentile(Q1),50th percentile(or median)(Q2),75th percentile(Q3) and 100th percentile(Q4).\n",
    "The difference between Q3 and Q1 is called IQR"
   ]
  },
  {
   "cell_type": "code",
   "execution_count": 438,
   "id": "4640eab0-676e-406b-bf2d-aa7992086f69",
   "metadata": {},
   "outputs": [
    {
     "data": {
      "text/plain": [
       "16344.5"
      ]
     },
     "execution_count": 438,
     "metadata": {},
     "output_type": "execute_result"
    }
   ],
   "source": [
    "#calculating IQR\n",
    "#first calculating the third quartile\n",
    "q3=data['Aluminum Cans'].quantile(0.75)\n",
    "q3"
   ]
  },
  {
   "cell_type": "code",
   "execution_count": 439,
   "id": "8453ea53-7a51-47e8-836a-9811ad80d0c3",
   "metadata": {},
   "outputs": [
    {
     "data": {
      "text/plain": [
       "13375.0"
      ]
     },
     "execution_count": 439,
     "metadata": {},
     "output_type": "execute_result"
    }
   ],
   "source": [
    "#calulating the first quartile\n",
    "q1=data['Aluminum Cans'].quantile(0.25)\n",
    "q1"
   ]
  },
  {
   "cell_type": "code",
   "execution_count": 440,
   "id": "edefc9c1-bb54-4205-806b-385e4adf0fb4",
   "metadata": {},
   "outputs": [
    {
     "data": {
      "text/plain": [
       "2969.5"
      ]
     },
     "execution_count": 440,
     "metadata": {},
     "output_type": "execute_result"
    }
   ],
   "source": [
    "#finding the IQR value\n",
    "iqr = q3-q1\n",
    "iqr"
   ]
  },
  {
   "cell_type": "code",
   "execution_count": 441,
   "id": "74d9cf84-a1d1-4951-9817-3886fc64f225",
   "metadata": {},
   "outputs": [
    {
     "name": "stdout",
     "output_type": "stream",
     "text": [
      "20798.75 8920.75\n"
     ]
    }
   ],
   "source": [
    "#calculating the upper and lower limits from iqr any value above ul or below ll will become outliers.\n",
    "ul=q3+(1.5 *iqr)\n",
    "ll=q1-(1.5*iqr)\n",
    "print(ul,ll)"
   ]
  },
  {
   "cell_type": "code",
   "execution_count": 442,
   "id": "0fe95324-adef-41f5-ae9c-52f280b23a14",
   "metadata": {},
   "outputs": [],
   "source": [
    "#upper bound\n",
    "upper= np.where(data['Aluminum Cans']>= ul)\n",
    "#lower bound\n",
    "lower =np.where(data['Aluminum Cans']<= ll)\n",
    "#deleting the rows above upper and below lower values\n",
    "data.drop(upper[0], inplace=True)\n",
    "data.drop(lower[0], inplace=True)\n",
    "# code removes the row with the index specified by the value of 'upper[0]' from the DataFrame 'data' in place, \n",
    "#meaning the change is applied directly to the DataFrame and does not return a new DataFrame."
   ]
  },
  {
   "cell_type": "code",
   "execution_count": 443,
   "id": "9298e221-0655-4cd6-b3c1-20140d114d1f",
   "metadata": {},
   "outputs": [
    {
     "data": {
      "text/plain": [
       "(15, 16)"
      ]
     },
     "execution_count": 443,
     "metadata": {},
     "output_type": "execute_result"
    }
   ],
   "source": [
    "#seeing how many rows removed ->1row removed\n",
    "data.shape"
   ]
  },
  {
   "cell_type": "code",
   "execution_count": 444,
   "id": "50a4757d-d2a6-4690-ba0e-70cdcefc6189",
   "metadata": {},
   "outputs": [],
   "source": [
    "#replacing the outliers with some values\n",
    "#first converting the Aluminum Cans value into array\n",
    "arr=df['Aluminum Cans'].values"
   ]
  },
  {
   "cell_type": "code",
   "execution_count": 445,
   "id": "e55da2f4-5fab-4b6b-8e46-88aefd30d9d9",
   "metadata": {},
   "outputs": [
    {
     "data": {
      "text/plain": [
       "array([ True,  True,  True,  True,  True,  True,  True,  True,  True,\n",
       "        True,  True,  True,  True,  True, False, False])"
      ]
     },
     "execution_count": 445,
     "metadata": {},
     "output_type": "execute_result"
    }
   ],
   "source": [
    "#if arr values are in between ll and ul,represent value as true else false\n",
    "#False value are outliers\n",
    "true_index=(ll<arr)&(arr<ul)\n",
    "true_index"
   ]
  },
  {
   "cell_type": "markdown",
   "id": "23eed675-fc23-40d8-a41b-ec836aecf2ab",
   "metadata": {},
   "source": [
    "Can observe that there are a false value in the array ,that is Outliers\n",
    "to replace this row with median value,find median value  of all true values"
   ]
  },
  {
   "cell_type": "code",
   "execution_count": 447,
   "id": "e64b7960-b9ee-457a-9134-7fdc4a743894",
   "metadata": {},
   "outputs": [
    {
     "data": {
      "text/plain": [
       "14157.0"
      ]
     },
     "execution_count": 447,
     "metadata": {},
     "output_type": "execute_result"
    }
   ],
   "source": [
    "#calculating median value of all value other the ouliers\n",
    "mid=np.median(df['Aluminum Cans'][true_index])\n",
    "mid"
   ]
  },
  {
   "cell_type": "code",
   "execution_count": 448,
   "id": "c1cc3e81-7200-47c6-9d13-91687604ea12",
   "metadata": {
    "scrolled": true
   },
   "outputs": [
    {
     "data": {
      "text/html": [
       "<div>\n",
       "<style scoped>\n",
       "    .dataframe tbody tr th:only-of-type {\n",
       "        vertical-align: middle;\n",
       "    }\n",
       "\n",
       "    .dataframe tbody tr th {\n",
       "        vertical-align: top;\n",
       "    }\n",
       "\n",
       "    .dataframe thead th {\n",
       "        text-align: right;\n",
       "    }\n",
       "</style>\n",
       "<table border=\"1\" class=\"dataframe\">\n",
       "  <thead>\n",
       "    <tr style=\"text-align: right;\">\n",
       "      <th></th>\n",
       "      <th>Year</th>\n",
       "      <th>Agriculture</th>\n",
       "      <th>Aluminum Cans</th>\n",
       "      <th>Unnamed: 3</th>\n",
       "      <th>Anti-freeze</th>\n",
       "      <th>Appliances/White Goods</th>\n",
       "      <th>Unnamed: 6</th>\n",
       "      <th>Unnamed: 7</th>\n",
       "      <th>Ash,Sand &amp;Dust used</th>\n",
       "      <th>Unnamed: 9</th>\n",
       "      <th>Asphalt/Concrete</th>\n",
       "      <th>Unnamed: 11</th>\n",
       "      <th>Batteries</th>\n",
       "      <th>Unnamed: 13</th>\n",
       "      <th>Unnamed: 14</th>\n",
       "      <th>Unnamed: 15</th>\n",
       "    </tr>\n",
       "  </thead>\n",
       "  <tbody>\n",
       "    <tr>\n",
       "      <th>1</th>\n",
       "      <td>2001.0</td>\n",
       "      <td>0.0</td>\n",
       "      <td>12540.0</td>\n",
       "      <td>NaN</td>\n",
       "      <td>4157.0</td>\n",
       "      <td>39180.0</td>\n",
       "      <td>NaN</td>\n",
       "      <td>NaN</td>\n",
       "      <td>12333.0</td>\n",
       "      <td>NaN</td>\n",
       "      <td>1116871.0</td>\n",
       "      <td>NaN</td>\n",
       "      <td>16297.0</td>\n",
       "      <td>NaN</td>\n",
       "      <td>NaN</td>\n",
       "      <td>NaN</td>\n",
       "    </tr>\n",
       "    <tr>\n",
       "      <th>2</th>\n",
       "      <td>2002.0</td>\n",
       "      <td>0.0</td>\n",
       "      <td>12718.0</td>\n",
       "      <td>NaN</td>\n",
       "      <td>4506.0</td>\n",
       "      <td>43833.0</td>\n",
       "      <td>NaN</td>\n",
       "      <td>NaN</td>\n",
       "      <td>290.0</td>\n",
       "      <td>NaN</td>\n",
       "      <td>1455195.0</td>\n",
       "      <td>NaN</td>\n",
       "      <td>12158.0</td>\n",
       "      <td>NaN</td>\n",
       "      <td>NaN</td>\n",
       "      <td>NaN</td>\n",
       "    </tr>\n",
       "    <tr>\n",
       "      <th>8</th>\n",
       "      <td>2008.0</td>\n",
       "      <td>31800.0</td>\n",
       "      <td>12842.0</td>\n",
       "      <td>NaN</td>\n",
       "      <td>5194.0</td>\n",
       "      <td>31193.0</td>\n",
       "      <td>NaN</td>\n",
       "      <td>NaN</td>\n",
       "      <td>0.0</td>\n",
       "      <td>NaN</td>\n",
       "      <td>2354878.0</td>\n",
       "      <td>NaN</td>\n",
       "      <td>26785.0</td>\n",
       "      <td>NaN</td>\n",
       "      <td>NaN</td>\n",
       "      <td>NaN</td>\n",
       "    </tr>\n",
       "    <tr>\n",
       "      <th>11</th>\n",
       "      <td>2011.0</td>\n",
       "      <td>76645.0</td>\n",
       "      <td>13115.0</td>\n",
       "      <td>NaN</td>\n",
       "      <td>4872.0</td>\n",
       "      <td>44174.0</td>\n",
       "      <td>NaN</td>\n",
       "      <td>NaN</td>\n",
       "      <td>20364.0</td>\n",
       "      <td>NaN</td>\n",
       "      <td>2211889.0</td>\n",
       "      <td>NaN</td>\n",
       "      <td>27297.0</td>\n",
       "      <td>NaN</td>\n",
       "      <td>NaN</td>\n",
       "      <td>NaN</td>\n",
       "    </tr>\n",
       "    <tr>\n",
       "      <th>12</th>\n",
       "      <td>2012.0</td>\n",
       "      <td>102732.0</td>\n",
       "      <td>13635.0</td>\n",
       "      <td>NaN</td>\n",
       "      <td>6797.0</td>\n",
       "      <td>54578.0</td>\n",
       "      <td>NaN</td>\n",
       "      <td>NaN</td>\n",
       "      <td>0.0</td>\n",
       "      <td>NaN</td>\n",
       "      <td>1887580.0</td>\n",
       "      <td>NaN</td>\n",
       "      <td>23356.0</td>\n",
       "      <td>NaN</td>\n",
       "      <td>NaN</td>\n",
       "      <td>NaN</td>\n",
       "    </tr>\n",
       "    <tr>\n",
       "      <th>10</th>\n",
       "      <td>2010.0</td>\n",
       "      <td>55689.0</td>\n",
       "      <td>13655.0</td>\n",
       "      <td>NaN</td>\n",
       "      <td>4955.0</td>\n",
       "      <td>56920.0</td>\n",
       "      <td>NaN</td>\n",
       "      <td>NaN</td>\n",
       "      <td>0.0</td>\n",
       "      <td>NaN</td>\n",
       "      <td>2881220.0</td>\n",
       "      <td>NaN</td>\n",
       "      <td>19198.0</td>\n",
       "      <td>NaN</td>\n",
       "      <td>NaN</td>\n",
       "      <td>NaN</td>\n",
       "    </tr>\n",
       "    <tr>\n",
       "      <th>7</th>\n",
       "      <td>2007.0</td>\n",
       "      <td>0.0</td>\n",
       "      <td>14005.0</td>\n",
       "      <td>NaN</td>\n",
       "      <td>6586.0</td>\n",
       "      <td>54578.0</td>\n",
       "      <td>NaN</td>\n",
       "      <td>NaN</td>\n",
       "      <td>25421.0</td>\n",
       "      <td>NaN</td>\n",
       "      <td>2215898.0</td>\n",
       "      <td>NaN</td>\n",
       "      <td>26968.0</td>\n",
       "      <td>NaN</td>\n",
       "      <td>NaN</td>\n",
       "      <td>NaN</td>\n",
       "    </tr>\n",
       "    <tr>\n",
       "      <th>14</th>\n",
       "      <td>2014.0</td>\n",
       "      <td>66660.0</td>\n",
       "      <td>14309.0</td>\n",
       "      <td>NaN</td>\n",
       "      <td>4955.0</td>\n",
       "      <td>37882.0</td>\n",
       "      <td>NaN</td>\n",
       "      <td>NaN</td>\n",
       "      <td>0.0</td>\n",
       "      <td>NaN</td>\n",
       "      <td>2389936.0</td>\n",
       "      <td>NaN</td>\n",
       "      <td>19198.0</td>\n",
       "      <td>NaN</td>\n",
       "      <td>NaN</td>\n",
       "      <td>NaN</td>\n",
       "    </tr>\n",
       "    <tr>\n",
       "      <th>6</th>\n",
       "      <td>2006.0</td>\n",
       "      <td>0.0</td>\n",
       "      <td>14951.0</td>\n",
       "      <td>NaN</td>\n",
       "      <td>7507.0</td>\n",
       "      <td>39777.0</td>\n",
       "      <td>NaN</td>\n",
       "      <td>NaN</td>\n",
       "      <td>40080.0</td>\n",
       "      <td>NaN</td>\n",
       "      <td>210487.0</td>\n",
       "      <td>NaN</td>\n",
       "      <td>21493.0</td>\n",
       "      <td>NaN</td>\n",
       "      <td>NaN</td>\n",
       "      <td>NaN</td>\n",
       "    </tr>\n",
       "    <tr>\n",
       "      <th>5</th>\n",
       "      <td>2005.0</td>\n",
       "      <td>0.0</td>\n",
       "      <td>15441.0</td>\n",
       "      <td>NaN</td>\n",
       "      <td>8767.0</td>\n",
       "      <td>49796.0</td>\n",
       "      <td>NaN</td>\n",
       "      <td>NaN</td>\n",
       "      <td>14588.0</td>\n",
       "      <td>NaN</td>\n",
       "      <td>151005.0</td>\n",
       "      <td>NaN</td>\n",
       "      <td>25870.0</td>\n",
       "      <td>NaN</td>\n",
       "      <td>NaN</td>\n",
       "      <td>NaN</td>\n",
       "    </tr>\n",
       "    <tr>\n",
       "      <th>4</th>\n",
       "      <td>2004.0</td>\n",
       "      <td>0.0</td>\n",
       "      <td>16010.0</td>\n",
       "      <td>NaN</td>\n",
       "      <td>8050.0</td>\n",
       "      <td>47302.0</td>\n",
       "      <td>NaN</td>\n",
       "      <td>NaN</td>\n",
       "      <td>40409.0</td>\n",
       "      <td>NaN</td>\n",
       "      <td>2002171.0</td>\n",
       "      <td>NaN</td>\n",
       "      <td>25518.0</td>\n",
       "      <td>NaN</td>\n",
       "      <td>NaN</td>\n",
       "      <td>NaN</td>\n",
       "    </tr>\n",
       "    <tr>\n",
       "      <th>13</th>\n",
       "      <td>2013.0</td>\n",
       "      <td>97270.0</td>\n",
       "      <td>16679.0</td>\n",
       "      <td>NaN</td>\n",
       "      <td>4804.0</td>\n",
       "      <td>31192.0</td>\n",
       "      <td>NaN</td>\n",
       "      <td>NaN</td>\n",
       "      <td>0.0</td>\n",
       "      <td>NaN</td>\n",
       "      <td>2196139.0</td>\n",
       "      <td>NaN</td>\n",
       "      <td>21744.0</td>\n",
       "      <td>NaN</td>\n",
       "      <td>NaN</td>\n",
       "      <td>NaN</td>\n",
       "    </tr>\n",
       "    <tr>\n",
       "      <th>3</th>\n",
       "      <td>2003.0</td>\n",
       "      <td>0.0</td>\n",
       "      <td>17608.0</td>\n",
       "      <td>NaN</td>\n",
       "      <td>4722.0</td>\n",
       "      <td>53353.0</td>\n",
       "      <td>NaN</td>\n",
       "      <td>NaN</td>\n",
       "      <td>10576.0</td>\n",
       "      <td>NaN</td>\n",
       "      <td>1600288.0</td>\n",
       "      <td>NaN</td>\n",
       "      <td>18780.0</td>\n",
       "      <td>NaN</td>\n",
       "      <td>NaN</td>\n",
       "      <td>NaN</td>\n",
       "    </tr>\n",
       "    <tr>\n",
       "      <th>0</th>\n",
       "      <td>2000.0</td>\n",
       "      <td>0.0</td>\n",
       "      <td>17994.0</td>\n",
       "      <td>NaN</td>\n",
       "      <td>2475.0</td>\n",
       "      <td>35427.0</td>\n",
       "      <td>NaN</td>\n",
       "      <td>NaN</td>\n",
       "      <td>10000.0</td>\n",
       "      <td>NaN</td>\n",
       "      <td>8932218.0</td>\n",
       "      <td>NaN</td>\n",
       "      <td>10757.0</td>\n",
       "      <td>NaN</td>\n",
       "      <td>NaN</td>\n",
       "      <td>NaN</td>\n",
       "    </tr>\n",
       "    <tr>\n",
       "      <th>9</th>\n",
       "      <td>2009.0</td>\n",
       "      <td>45431.0</td>\n",
       "      <td>14157.0</td>\n",
       "      <td>NaN</td>\n",
       "      <td>4804.0</td>\n",
       "      <td>37882.0</td>\n",
       "      <td>NaN</td>\n",
       "      <td>NaN</td>\n",
       "      <td>344.0</td>\n",
       "      <td>NaN</td>\n",
       "      <td>2196780.0</td>\n",
       "      <td>NaN</td>\n",
       "      <td>21548.0</td>\n",
       "      <td>NaN</td>\n",
       "      <td>NaN</td>\n",
       "      <td>NaN</td>\n",
       "    </tr>\n",
       "    <tr>\n",
       "      <th>15</th>\n",
       "      <td>NaN</td>\n",
       "      <td>NaN</td>\n",
       "      <td>14157.0</td>\n",
       "      <td>NaN</td>\n",
       "      <td>NaN</td>\n",
       "      <td>NaN</td>\n",
       "      <td>NaN</td>\n",
       "      <td>NaN</td>\n",
       "      <td>NaN</td>\n",
       "      <td>NaN</td>\n",
       "      <td>NaN</td>\n",
       "      <td>NaN</td>\n",
       "      <td>NaN</td>\n",
       "      <td>NaN</td>\n",
       "      <td>NaN</td>\n",
       "      <td>NaN</td>\n",
       "    </tr>\n",
       "  </tbody>\n",
       "</table>\n",
       "</div>"
      ],
      "text/plain": [
       "      Year  Agriculture  Aluminum Cans  Unnamed: 3  Anti-freeze  \\\n",
       "1   2001.0          0.0        12540.0         NaN       4157.0   \n",
       "2   2002.0          0.0        12718.0         NaN       4506.0   \n",
       "8   2008.0      31800.0        12842.0         NaN       5194.0   \n",
       "11  2011.0      76645.0        13115.0         NaN       4872.0   \n",
       "12  2012.0     102732.0        13635.0         NaN       6797.0   \n",
       "10  2010.0      55689.0        13655.0         NaN       4955.0   \n",
       "7   2007.0          0.0        14005.0         NaN       6586.0   \n",
       "14  2014.0      66660.0        14309.0         NaN       4955.0   \n",
       "6   2006.0          0.0        14951.0         NaN       7507.0   \n",
       "5   2005.0          0.0        15441.0         NaN       8767.0   \n",
       "4   2004.0          0.0        16010.0         NaN       8050.0   \n",
       "13  2013.0      97270.0        16679.0         NaN       4804.0   \n",
       "3   2003.0          0.0        17608.0         NaN       4722.0   \n",
       "0   2000.0          0.0        17994.0         NaN       2475.0   \n",
       "9   2009.0      45431.0        14157.0         NaN       4804.0   \n",
       "15     NaN          NaN        14157.0         NaN          NaN   \n",
       "\n",
       "    Appliances/White Goods  Unnamed: 6  Unnamed: 7  Ash,Sand &Dust used  \\\n",
       "1                  39180.0         NaN         NaN              12333.0   \n",
       "2                  43833.0         NaN         NaN                290.0   \n",
       "8                  31193.0         NaN         NaN                  0.0   \n",
       "11                 44174.0         NaN         NaN              20364.0   \n",
       "12                 54578.0         NaN         NaN                  0.0   \n",
       "10                 56920.0         NaN         NaN                  0.0   \n",
       "7                  54578.0         NaN         NaN              25421.0   \n",
       "14                 37882.0         NaN         NaN                  0.0   \n",
       "6                  39777.0         NaN         NaN              40080.0   \n",
       "5                  49796.0         NaN         NaN              14588.0   \n",
       "4                  47302.0         NaN         NaN              40409.0   \n",
       "13                 31192.0         NaN         NaN                  0.0   \n",
       "3                  53353.0         NaN         NaN              10576.0   \n",
       "0                  35427.0         NaN         NaN              10000.0   \n",
       "9                  37882.0         NaN         NaN                344.0   \n",
       "15                     NaN         NaN         NaN                  NaN   \n",
       "\n",
       "    Unnamed: 9  Asphalt/Concrete  Unnamed: 11  Batteries  Unnamed: 13  \\\n",
       "1          NaN         1116871.0          NaN    16297.0          NaN   \n",
       "2          NaN         1455195.0          NaN    12158.0          NaN   \n",
       "8          NaN         2354878.0          NaN    26785.0          NaN   \n",
       "11         NaN         2211889.0          NaN    27297.0          NaN   \n",
       "12         NaN         1887580.0          NaN    23356.0          NaN   \n",
       "10         NaN         2881220.0          NaN    19198.0          NaN   \n",
       "7          NaN         2215898.0          NaN    26968.0          NaN   \n",
       "14         NaN         2389936.0          NaN    19198.0          NaN   \n",
       "6          NaN          210487.0          NaN    21493.0          NaN   \n",
       "5          NaN          151005.0          NaN    25870.0          NaN   \n",
       "4          NaN         2002171.0          NaN    25518.0          NaN   \n",
       "13         NaN         2196139.0          NaN    21744.0          NaN   \n",
       "3          NaN         1600288.0          NaN    18780.0          NaN   \n",
       "0          NaN         8932218.0          NaN    10757.0          NaN   \n",
       "9          NaN         2196780.0          NaN    21548.0          NaN   \n",
       "15         NaN               NaN          NaN        NaN          NaN   \n",
       "\n",
       "    Unnamed: 14  Unnamed: 15  \n",
       "1           NaN          NaN  \n",
       "2           NaN          NaN  \n",
       "8           NaN          NaN  \n",
       "11          NaN          NaN  \n",
       "12          NaN          NaN  \n",
       "10          NaN          NaN  \n",
       "7           NaN          NaN  \n",
       "14          NaN          NaN  \n",
       "6           NaN          NaN  \n",
       "5           NaN          NaN  \n",
       "4           NaN          NaN  \n",
       "13          NaN          NaN  \n",
       "3           NaN          NaN  \n",
       "0           NaN          NaN  \n",
       "9           NaN          NaN  \n",
       "15          NaN          NaN  "
      ]
     },
     "execution_count": 448,
     "metadata": {},
     "output_type": "execute_result"
    }
   ],
   "source": [
    "#Replacing all ouliers with median value i.e fals_index values to be replaced\n",
    "false_index=~ true_index                          #  apply ~ to an integer value, it flips all the bits in its binary representation. In other words:\n",
    "                                                  #All the 1 bits become 0.\n",
    "                                                  #All the 0 bits become 1\n",
    "df['Aluminum Cans'].values[false_index]=mid\n",
    "df"
   ]
  },
  {
   "cell_type": "markdown",
   "id": "607d0d3c-1904-4e93-bc23-a7f2669ae32f",
   "metadata": {},
   "source": [
    "The row of index number 14 contains the median value.Thus,we can make the 'Aluminum Cans' coulumn free of outliers in the dataframe."
   ]
  },
  {
   "cell_type": "code",
   "execution_count": null,
   "id": "5877e816-79cd-4399-8f31-9aea3216f331",
   "metadata": {},
   "outputs": [],
   "source": []
  }
 ],
 "metadata": {
  "kernelspec": {
   "display_name": "Python 3 (ipykernel)",
   "language": "python",
   "name": "python3"
  },
  "language_info": {
   "codemirror_mode": {
    "name": "ipython",
    "version": 3
   },
   "file_extension": ".py",
   "mimetype": "text/x-python",
   "name": "python",
   "nbconvert_exporter": "python",
   "pygments_lexer": "ipython3",
   "version": "3.11.7"
  }
 },
 "nbformat": 4,
 "nbformat_minor": 5
}
