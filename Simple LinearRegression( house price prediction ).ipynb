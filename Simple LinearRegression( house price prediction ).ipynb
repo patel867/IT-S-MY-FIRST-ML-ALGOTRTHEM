{
 "cells": [
  {
   "cell_type": "markdown",
   "id": "0de049e1-c24c-4c7b-9863-f196f5d4e60f",
   "metadata": {},
   "source": [
    "*Simple Linear Regression \n",
    "# A model represents an Algorithm or Logic\n",
    "Machine Learning Models(# The will understand the relationship between the data according to formula and if new data is given it will apply the same formula for it and will make prediction for new data)\n",
    "\n",
    "Data frames contain rows and columns(variables)\n",
    "\n",
    "\n",
    "\n",
    "\n",
    "\n",
    "\n"
   ]
  },
  {
   "cell_type": "markdown",
   "id": "5b79abed-8506-43b7-ae3b-63aa4c47956f",
   "metadata": {},
   "source": [
    "#Linear Regression\n",
    "linear regression is a ML model that depends on the linear relationship between a dependent variable(\"value is predicted and dependent on the value of independent variable\") and one or more independent variable(\"use to calculate the value of other variable\").\n"
   ]
  },
  {
   "cell_type": "markdown",
   "id": "b01f9d1f-0cd1-4c07-b5a9-2ef7f2c0fe94",
   "metadata": {},
   "source": [
    "# Q. Predicting the price of a house in New York depending on its area. Given the house area,find out the prices of houses whose area area:3300 sqft and 5000sqft\n"
   ]
  },
  {
   "cell_type": "code",
   "execution_count": 112,
   "id": "09f05fb8-800d-47e2-af66-e28694242b5e",
   "metadata": {},
   "outputs": [],
   "source": [
    "#simple linear regression \n",
    "#prediction the house price depending on the area\n",
    "import pandas as pd\n",
    "import seaborn as sns\n",
    "from sklearn.linear_model import LinearRegression           #scikit-learn library\n"
   ]
  },
  {
   "cell_type": "code",
   "execution_count": 113,
   "id": "3395ee50-c8e1-4627-a15a-a25386917742",
   "metadata": {},
   "outputs": [],
   "source": [
    "#load the data into dataframe\n",
    "df=pd.read_csv(\"F:\\machine learning\\House price prediction.csv\")"
   ]
  },
  {
   "cell_type": "markdown",
   "id": "04c3aebe-58a4-4951-8428-f162c0e26d07",
   "metadata": {},
   "source": [
    "  scatter-plot is a type of plot that displays the relationship between two quantitative variables in a dataset."
   ]
  },
  {
   "cell_type": "code",
   "execution_count": 115,
   "id": "b60690fd-0477-4a44-81d0-1aade1c5df1f",
   "metadata": {
    "scrolled": true
   },
   "outputs": [
    {
     "data": {
      "text/plain": [
       "<Axes: xlabel='area', ylabel='price'>"
      ]
     },
     "execution_count": 115,
     "metadata": {},
     "output_type": "execute_result"
    },
    {
     "data": {
      "image/png": "[encoded data removed]",
      "text/plain": [
       "<Figure size 640x480 with 1 Axes>"
      ]
     },
     "metadata": {},
     "output_type": "display_data"
    }
   ],
   "source": [
    "#plot scatter plot\n",
    "sns.scatterplot(data=df,x='area',y='price')"
   ]
  },
  {
   "cell_type": "markdown",
   "id": "a3097899-4daa-42bc-9a52-4f45ee1fa30e",
   "metadata": {},
   "source": [
    "once we see the scatter plot,we can understand that the distribution is linear and can use linear regression model"
   ]
  },
  {
   "cell_type": "code",
   "execution_count": 117,
   "id": "965c5a4a-113a-4b73-8607-fe6b0f7c8ced",
   "metadata": {
    "scrolled": true
   },
   "outputs": [
    {
     "data": {
      "text/html": [
       "<style>#sk-container-id-4 {color: black;background-color: white;}#sk-container-id-4 pre{padding: 0;}#sk-container-id-4 div.sk-toggleable {background-color: white;}#sk-container-id-4 label.sk-toggleable__label {cursor: pointer;display: block;width: 100%;margin-bottom: 0;padding: 0.3em;box-sizing: border-box;text-align: center;}#sk-container-id-4 label.sk-toggleable__label-arrow:before {content: \"▸\";float: left;margin-right: 0.25em;color: #696969;}#sk-container-id-4 label.sk-toggleable__label-arrow:hover:before {color: black;}#sk-container-id-4 div.sk-estimator:hover label.sk-toggleable__label-arrow:before {color: black;}#sk-container-id-4 div.sk-toggleable__content {max-height: 0;max-width: 0;overflow: hidden;text-align: left;background-color: #f0f8ff;}#sk-container-id-4 div.sk-toggleable__content pre {margin: 0.2em;color: black;border-radius: 0.25em;background-color: #f0f8ff;}#sk-container-id-4 input.sk-toggleable__control:checked~div.sk-toggleable__content {max-height: 200px;max-width: 100%;overflow: auto;}#sk-container-id-4 input.sk-toggleable__control:checked~label.sk-toggleable__label-arrow:before {content: \"▾\";}#sk-container-id-4 div.sk-estimator input.sk-toggleable__control:checked~label.sk-toggleable__label {background-color: #d4ebff;}#sk-container-id-4 div.sk-label input.sk-toggleable__control:checked~label.sk-toggleable__label {background-color: #d4ebff;}#sk-container-id-4 input.sk-hidden--visually {border: 0;clip: rect(1px 1px 1px 1px);clip: rect(1px, 1px, 1px, 1px);height: 1px;margin: -1px;overflow: hidden;padding: 0;position: absolute;width: 1px;}#sk-container-id-4 div.sk-estimator {font-family: monospace;background-color: #f0f8ff;border: 1px dotted black;border-radius: 0.25em;box-sizing: border-box;margin-bottom: 0.5em;}#sk-container-id-4 div.sk-estimator:hover {background-color: #d4ebff;}#sk-container-id-4 div.sk-parallel-item::after {content: \"\";width: 100%;border-bottom: 1px solid gray;flex-grow: 1;}#sk-container-id-4 div.sk-label:hover label.sk-toggleable__label {background-color: #d4ebff;}#sk-container-id-4 div.sk-serial::before {content: \"\";position: absolute;border-left: 1px solid gray;box-sizing: border-box;top: 0;bottom: 0;left: 50%;z-index: 0;}#sk-container-id-4 div.sk-serial {display: flex;flex-direction: column;align-items: center;background-color: white;padding-right: 0.2em;padding-left: 0.2em;position: relative;}#sk-container-id-4 div.sk-item {position: relative;z-index: 1;}#sk-container-id-4 div.sk-parallel {display: flex;align-items: stretch;justify-content: center;background-color: white;position: relative;}#sk-container-id-4 div.sk-item::before, #sk-container-id-4 div.sk-parallel-item::before {content: \"\";position: absolute;border-left: 1px solid gray;box-sizing: border-box;top: 0;bottom: 0;left: 50%;z-index: -1;}#sk-container-id-4 div.sk-parallel-item {display: flex;flex-direction: column;z-index: 1;position: relative;background-color: white;}#sk-container-id-4 div.sk-parallel-item:first-child::after {align-self: flex-end;width: 50%;}#sk-container-id-4 div.sk-parallel-item:last-child::after {align-self: flex-start;width: 50%;}#sk-container-id-4 div.sk-parallel-item:only-child::after {width: 0;}#sk-container-id-4 div.sk-dashed-wrapped {border: 1px dashed gray;margin: 0 0.4em 0.5em 0.4em;box-sizing: border-box;padding-bottom: 0.4em;background-color: white;}#sk-container-id-4 div.sk-label label {font-family: monospace;font-weight: bold;display: inline-block;line-height: 1.2em;}#sk-container-id-4 div.sk-label-container {text-align: center;}#sk-container-id-4 div.sk-container {/* jupyter's `normalize.less` sets `[hidden] { display: none; }` but bootstrap.min.css set `[hidden] { display: none !important; }` so we also need the `!important` here to be able to override the default hidden behavior on the sphinx rendered scikit-learn.org. See: https://github.com/scikit-learn/scikit-learn/issues/21755 */display: inline-block !important;position: relative;}#sk-container-id-4 div.sk-text-repr-fallback {display: none;}</style><div id=\"sk-container-id-4\" class=\"sk-top-container\"><div class=\"sk-text-repr-fallback\"><pre>LinearRegression()</pre><b>In a Jupyter environment, please rerun this cell to show the HTML representation or trust the notebook. <br />On GitHub, the HTML representation is unable to render, please try loading this page with nbviewer.org.</b></div><div class=\"sk-container\" hidden><div class=\"sk-item\"><div class=\"sk-estimator sk-toggleable\"><input class=\"sk-toggleable__control sk-hidden--visually\" id=\"sk-estimator-id-4\" type=\"checkbox\" checked><label for=\"sk-estimator-id-4\" class=\"sk-toggleable__label sk-toggleable__label-arrow\">LinearRegression</label><div class=\"sk-toggleable__content\"><pre>LinearRegression()</pre></div></div></div></div></div>"
      ],
      "text/plain": [
       "LinearRegression()"
      ]
     },
     "execution_count": 117,
     "metadata": {},
     "output_type": "execute_result"
    }
   ],
   "source": [
    "reg=LinearRegression()  \n",
    "#The fit method is called on the reg object\n",
    "reg.fit(df[['area']],df.price)            #fitting means training\n",
    "\n"
   ]
  },
  {
   "cell_type": "code",
   "execution_count": 118,
   "id": "c2271d7e-b9c7-40a2-b2fa-8f4a86ad683c",
   "metadata": {},
   "outputs": [
    {
     "name": "stderr",
     "output_type": "stream",
     "text": [
      "C:\\Users\\admin\\anaconda3\\Lib\\site-packages\\sklearn\\base.py:439: UserWarning: X does not have valid feature names, but LinearRegression was fitted with feature names\n",
      "  warnings.warn(\n"
     ]
    },
    {
     "data": {
      "text/plain": [
       "array([628715.75342466])"
      ]
     },
     "execution_count": 118,
     "metadata": {},
     "output_type": "execute_result"
    }
   ],
   "source": [
    "#predicting the price of 3300 sqf house\n",
    "reg.predict([[3300]])"
   ]
  },
  {
   "cell_type": "markdown",
   "id": "cda2c391-1b34-4f4f-8ffb-3ab2fce9372f",
   "metadata": {},
   "source": [
    "while calculating the price of the house .to use the formula ,it should know the slope(m) of the line and intercept(b) values."
   ]
  },
  {
   "cell_type": "code",
   "execution_count": 120,
   "id": "35781356-3d3e-4e90-af47-d19347f4b959",
   "metadata": {},
   "outputs": [
    {
     "data": {
      "text/plain": [
       "array([135.78767123])"
      ]
     },
     "execution_count": 120,
     "metadata": {},
     "output_type": "execute_result"
    }
   ],
   "source": [
    "#finding the coefficient slope m.\n",
    "reg.coef_"
   ]
  },
  {
   "cell_type": "code",
   "execution_count": 121,
   "id": "fee1efaf-0b67-483a-80a0-641ccf7a01f7",
   "metadata": {},
   "outputs": [
    {
     "data": {
      "text/plain": [
       "180616.43835616432"
      ]
     },
     "execution_count": 121,
     "metadata": {},
     "output_type": "execute_result"
    }
   ],
   "source": [
    "#finding the intercept b.\n",
    "reg.intercept_"
   ]
  },
  {
   "cell_type": "code",
   "execution_count": 122,
   "id": "e4e23f38-5050-481c-b63a-bdffd486eb58",
   "metadata": {},
   "outputs": [
    {
     "data": {
      "text/plain": [
       "628715.7534151643"
      ]
     },
     "execution_count": 122,
     "metadata": {},
     "output_type": "execute_result"
    }
   ],
   "source": [
    "#substitute m and b values in y=mx+b\n",
    "y= 135.78767123 * 3300 + 180616.43835616432\n",
    "y          "
   ]
  },
  {
   "cell_type": "markdown",
   "id": "3aab6163-c98e-4f36-a170-de6612854f1c",
   "metadata": {},
   "source": [
    "got the predicted value above\n"
   ]
  },
  {
   "cell_type": "code",
   "execution_count": 124,
   "id": "75f7281a-6c6c-46a1-bd42-b2c202a3a092",
   "metadata": {},
   "outputs": [
    {
     "name": "stderr",
     "output_type": "stream",
     "text": [
      "C:\\Users\\admin\\anaconda3\\Lib\\site-packages\\sklearn\\base.py:439: UserWarning: X does not have valid feature names, but LinearRegression was fitted with feature names\n",
      "  warnings.warn(\n"
     ]
    },
    {
     "data": {
      "text/plain": [
       "array([859554.79452055])"
      ]
     },
     "execution_count": 124,
     "metadata": {},
     "output_type": "execute_result"
    }
   ],
   "source": [
    "#Next pridicting the price of 5000 sqft house\n",
    "reg.predict([[5000]])"
   ]
  },
  {
   "cell_type": "code",
   "execution_count": 125,
   "id": "1f196211-ccda-48c8-b71d-581fdb936bc1",
   "metadata": {},
   "outputs": [],
   "source": [
    "#finding accuracy level of the model by finding r squared values gives 95.8% accuracy\n",
    "from sklearn.metrics import r2_score             #R² is a measure that tells us how well a regression model fits the data.\n",
    "y_original = df.price\n",
    "y_predicted = reg.predict(df[['area']])"
   ]
  },
  {
   "cell_type": "code",
   "execution_count": 126,
   "id": "b07f7a8a-a730-45dc-a9a8-99f49a860075",
   "metadata": {},
   "outputs": [
    {
     "name": "stdout",
     "output_type": "stream",
     "text": [
      "r squared value = 0.9584301138199486\n"
     ]
    }
   ],
   "source": [
    "R_square =r2_score(y_original ,y_predicted)   #calculates the R² score between the original (actual) target values (y_original) and the predicted target values (y_predicted).\n",
    "print(\"r squared value =\",R_square)"
   ]
  },
  {
   "cell_type": "code",
   "execution_count": 127,
   "id": "520fdfa1-7a20-4528-afe6-b1b2847ece8e",
   "metadata": {},
   "outputs": [
    {
     "data": {
      "text/plain": [
       "<seaborn.axisgrid.FacetGrid at 0x11c250f52d0>"
      ]
     },
     "execution_count": 127,
     "metadata": {},
     "output_type": "execute_result"
    },
    {
     "data": {
      "image/png": "[encoded data removed]",
      "text/plain": [
       "<Figure size 500x500 with 1 Axes>"
      ]
     },
     "metadata": {},
     "output_type": "display_data"
    }
   ],
   "source": [
    "#display the scatter plot with a regression line\n",
    "sns.lmplot(data=df,x='area',y='price')"
   ]
  },
  {
   "cell_type": "code",
   "execution_count": null,
   "id": "3239e962-9c53-43d4-ae95-a33c632282e7",
   "metadata": {},
   "outputs": [],
   "source": []
  },
  {
   "cell_type": "code",
   "execution_count": null,
   "id": "7e0a7403-02e6-41fd-b357-169e045ed0f2",
   "metadata": {},
   "outputs": [],
   "source": []
  },
  {
   "cell_type": "code",
   "execution_count": null,
   "id": "de72c9a6-35d4-4564-9b61-3ced2ae410ee",
   "metadata": {},
   "outputs": [],
   "source": []
  }
 ],
 "metadata": {
  "kernelspec": {
   "display_name": "Python 3 (ipykernel)",
   "language": "python",
   "name": "python3"
  },
  "language_info": {
   "codemirror_mode": {
    "name": "ipython",
    "version": 3
   },
   "file_extension": ".py",
   "mimetype": "text/x-python",
   "name": "python",
   "nbconvert_exporter": "python",
   "pygments_lexer": "ipython3",
   "version": "3.11.7"
  }
 },
 "nbformat": 4,
 "nbformat_minor": 5
}
