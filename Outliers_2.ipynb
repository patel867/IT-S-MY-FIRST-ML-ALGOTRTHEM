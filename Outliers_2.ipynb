{
 "cells": [
  {
   "cell_type": "markdown",
   "id": "3ca27d5d-5488-422b-bb0e-c94ae482b169",
   "metadata": {},
   "source": [
    "# Substitution of mean value"
   ]
  },
  {
   "cell_type": "markdown",
   "id": "bf5402bc-5a8f-4fd7-99cc-6bae8a02ffc0",
   "metadata": {},
   "source": [
    "Q.Write a program to substitute mean value in the place of outliers in the 'Ash,Sand & Dust used in Asphalt Production' column in the Solid Waste Generation dataset."
   ]
  },
  {
   "cell_type": "code",
   "execution_count": 10,
   "id": "6370943a-617b-414e-b6ba-fcd6c3c7d796",
   "metadata": {},
   "outputs": [
    {
     "data": {
      "text/plain": [
       "(16, 16)"
      ]
     },
     "execution_count": 10,
     "metadata": {},
     "output_type": "execute_result"
    }
   ],
   "source": [
    "#Outliers detection and handling\n",
    "import pandas as pd              #pandas use for data manipulation\n",
    "import numpy as np\n",
    "import seaborn as sns           # seaborn use for creating statistical data visualizations.\n",
    "\n",
    "#reading data form the dataset into dataframe       #converting dataset into dataframe because  DataFrames are like organized spreadsheets for your data, making it easy to manipulate, analyze, and explore\n",
    "data=pd.read_csv(\"F:\\machine learning\\Outliers__solid_waste_generation_recycling.1__csv__file.csv\")\n",
    "#finding no.of rows and columns in out data\n",
    "data.shape"
   ]
  },
  {
   "cell_type": "code",
   "execution_count": 11,
   "id": "ad9f97b6-3be0-4fbc-baa9-989dcd69c506",
   "metadata": {},
   "outputs": [],
   "source": [
    "#Renaming the column:Ash,sand & Dust used Asphalt Production as target column ,so that it will to write\n",
    "#pass dictionary with old column name and new name\n",
    "data.rename(columns={'Ash,Sand &Dust used':'target'},inplace=True)\n",
    "df=data\n",
    "#find outliers,sort on target column\n"
   ]
  },
  {
   "cell_type": "markdown",
   "id": "9f511cb3-b941-4b10-8a93-fb308b3bc541",
   "metadata": {},
   "source": [
    "The “inplace” parameter is often used in Pandas methods (and occasionally in other libraries) to determine whether an operation should modify the original object directly or return a modified copy."
   ]
  },
  {
   "cell_type": "code",
   "execution_count": 13,
   "id": "e4eff5c3-2b90-4138-8538-760118a3693f",
   "metadata": {},
   "outputs": [],
   "source": [
    "#finding outliers,sort on target column\n",
    "df= data.sort_values('target')"
   ]
  },
  {
   "cell_type": "code",
   "execution_count": 14,
   "id": "36aecab0-200a-487a-8b6d-1391035314e0",
   "metadata": {},
   "outputs": [
    {
     "data": {
      "text/plain": [
       "8     31193.0\n",
       "10    56920.0\n",
       "12    54578.0\n",
       "13    31192.0\n",
       "14    37882.0\n",
       "2     43833.0\n",
       "9     37882.0\n",
       "0     35427.0\n",
       "3     53353.0\n",
       "1     39180.0\n",
       "5     49796.0\n",
       "11    44174.0\n",
       "7     54578.0\n",
       "6     39777.0\n",
       "4     47302.0\n",
       "15        NaN\n",
       "Name: Appliances/White Goods, dtype: float64"
      ]
     },
     "execution_count": 14,
     "metadata": {},
     "output_type": "execute_result"
    }
   ],
   "source": [
    "#display all rows of target column 0's cannot be outliers\n",
    "df.iloc[:,5]"
   ]
  },
  {
   "cell_type": "code",
   "execution_count": 15,
   "id": "f79f4c70-a72e-4373-95b5-a89301d8953c",
   "metadata": {},
   "outputs": [
    {
     "data": {
      "text/plain": [
       "<Axes: xlabel='target'>"
      ]
     },
     "execution_count": 15,
     "metadata": {},
     "output_type": "execute_result"
    },
    {
     "data": {
      "image/png": "[encoded data removed]",
      "text/plain": [
       "<Figure size 640x480 with 1 Axes>"
      ]
     },
     "metadata": {},
     "output_type": "display_data"
    }
   ],
   "source": [
    "#finding the outliers by drawing graphs/plots\n",
    "sns.boxplot(data=data,x='target')"
   ]
  },
  {
   "cell_type": "markdown",
   "id": "9fcf61da-77ae-4f57-b41e-33c0eea90c4e",
   "metadata": {},
   "source": [
    "In the above graph,the ouliers is after 40000"
   ]
  },
  {
   "cell_type": "code",
   "execution_count": 17,
   "id": "1daa0f8f-9494-41b7-a015-69b9659eee95",
   "metadata": {},
   "outputs": [
    {
     "name": "stderr",
     "output_type": "stream",
     "text": [
      "C:\\Users\\admin\\anaconda3\\Lib\\site-packages\\seaborn\\_oldcore.py:1119: FutureWarning: use_inf_as_na option is deprecated and will be removed in a future version. Convert inf values to NaN before operating instead.\n",
      "  with pd.option_context('mode.use_inf_as_na', True):\n"
     ]
    },
    {
     "data": {
      "text/plain": [
       "<seaborn.axisgrid.FacetGrid at 0x24cdefe7d90>"
      ]
     },
     "execution_count": 17,
     "metadata": {},
     "output_type": "execute_result"
    },
    {
     "data": {
      "image/png": "[encoded data removed]",
      "text/plain": [
       "<Figure size 500x500 with 1 Axes>"
      ]
     },
     "metadata": {},
     "output_type": "display_data"
    }
   ],
   "source": [
    "#show distribution plot\n",
    "sns.displot(data=data,x='target',bins=20)"
   ]
  },
  {
   "cell_type": "code",
   "execution_count": 18,
   "id": "a5c46d4d-4468-4f7b-a00f-cce3b3a05426",
   "metadata": {},
   "outputs": [
    {
     "data": {
      "text/plain": [
       "17476.0"
      ]
     },
     "execution_count": 18,
     "metadata": {},
     "output_type": "execute_result"
    }
   ],
   "source": [
    "#calculating IQR\n",
    "#first calculate q3(third quartile)\n",
    "q3=data['target'].quantile(0.75)\n",
    "q3"
   ]
  },
  {
   "cell_type": "code",
   "execution_count": 19,
   "id": "d65ae848-9239-4b08-8a78-4937c15d7a06",
   "metadata": {},
   "outputs": [
    {
     "data": {
      "text/plain": [
       "0.0"
      ]
     },
     "execution_count": 19,
     "metadata": {},
     "output_type": "execute_result"
    }
   ],
   "source": [
    "#calculating q1(first quartile)\n",
    "q1=data['target'].quantile(0.25)\n",
    "q1"
   ]
  },
  {
   "cell_type": "code",
   "execution_count": 20,
   "id": "b5a4ac0f-c6a3-4a44-a0e4-cbb42ffd0585",
   "metadata": {},
   "outputs": [
    {
     "data": {
      "text/plain": [
       "17476.0"
      ]
     },
     "execution_count": 20,
     "metadata": {},
     "output_type": "execute_result"
    }
   ],
   "source": [
    "#find iqr\n",
    "iqr=q3-q1\n",
    "iqr"
   ]
  },
  {
   "cell_type": "code",
   "execution_count": 21,
   "id": "a847a564-7528-48bb-85fd-05b859b14115",
   "metadata": {},
   "outputs": [
    {
     "name": "stdout",
     "output_type": "stream",
     "text": [
      "43690.0 -26214.0\n"
     ]
    }
   ],
   "source": [
    "#calculating upper and lower limits from iqr any value above ul or below ll is outliers.\n",
    "ul=q3+(1.5*iqr)\n",
    "ll=q1-(1.5*iqr)\n",
    "print(ul,ll)"
   ]
  },
  {
   "cell_type": "code",
   "execution_count": 22,
   "id": "8188bb14-fc84-4496-8361-d271244972a0",
   "metadata": {},
   "outputs": [],
   "source": [
    "#upper bound\n",
    "upper=np.where(data['target']>=ul)\n",
    "#lower bound\n",
    "lower=np.where(data['target']<=ll)\n",
    "\n",
    "#delete rows above upper and below lower values\n",
    "data.drop(upper[0],inplace=True)\n",
    "data.drop(upper[0],inplace=True)"
   ]
  },
  {
   "cell_type": "code",
   "execution_count": 23,
   "id": "273db98e-2bc6-4467-b2f9-8da632279ee1",
   "metadata": {},
   "outputs": [
    {
     "data": {
      "text/plain": [
       "array([ True,  True,  True,  True,  True,  True,  True,  True,  True,\n",
       "        True,  True,  True,  True,  True,  True, False])"
      ]
     },
     "execution_count": 23,
     "metadata": {},
     "output_type": "execute_result"
    }
   ],
   "source": [
    "#indexing method\n",
    "#converting the target into array\n",
    "arr=df['target'].values\n",
    "arr\n",
    "#if arr are in between ll and ul,represent that values as True else False\n",
    "#False values are Outliers\n",
    "true_index=(ll<arr)&(arr<ul)\n",
    "true_index"
   ]
  },
  {
   "cell_type": "code",
   "execution_count": 24,
   "id": "62c828d0-dec2-48a3-a037-50f59aa26018",
   "metadata": {},
   "outputs": [
    {
     "data": {
      "text/html": [
       "<div>\n",
       "<style scoped>\n",
       "    .dataframe tbody tr th:only-of-type {\n",
       "        vertical-align: middle;\n",
       "    }\n",
       "\n",
       "    .dataframe tbody tr th {\n",
       "        vertical-align: top;\n",
       "    }\n",
       "\n",
       "    .dataframe thead th {\n",
       "        text-align: right;\n",
       "    }\n",
       "</style>\n",
       "<table border=\"1\" class=\"dataframe\">\n",
       "  <thead>\n",
       "    <tr style=\"text-align: right;\">\n",
       "      <th></th>\n",
       "      <th>Year</th>\n",
       "      <th>Agriculture</th>\n",
       "      <th>Aluminum Cans</th>\n",
       "      <th>Unnamed: 3</th>\n",
       "      <th>Anti-freeze</th>\n",
       "      <th>Appliances/White Goods</th>\n",
       "      <th>Unnamed: 6</th>\n",
       "      <th>Unnamed: 7</th>\n",
       "      <th>target</th>\n",
       "      <th>Unnamed: 9</th>\n",
       "      <th>Asphalt/Concrete</th>\n",
       "      <th>Unnamed: 11</th>\n",
       "      <th>Batteries</th>\n",
       "      <th>Unnamed: 13</th>\n",
       "      <th>Unnamed: 14</th>\n",
       "      <th>Unnamed: 15</th>\n",
       "    </tr>\n",
       "  </thead>\n",
       "  <tbody>\n",
       "    <tr>\n",
       "      <th>8</th>\n",
       "      <td>2008.0</td>\n",
       "      <td>31800.0</td>\n",
       "      <td>12842.0</td>\n",
       "      <td>NaN</td>\n",
       "      <td>5194.0</td>\n",
       "      <td>31193.0</td>\n",
       "      <td>NaN</td>\n",
       "      <td>NaN</td>\n",
       "      <td>0.0</td>\n",
       "      <td>NaN</td>\n",
       "      <td>2354878.0</td>\n",
       "      <td>NaN</td>\n",
       "      <td>26785.0</td>\n",
       "      <td>NaN</td>\n",
       "      <td>NaN</td>\n",
       "      <td>NaN</td>\n",
       "    </tr>\n",
       "    <tr>\n",
       "      <th>10</th>\n",
       "      <td>2010.0</td>\n",
       "      <td>55689.0</td>\n",
       "      <td>13655.0</td>\n",
       "      <td>NaN</td>\n",
       "      <td>4955.0</td>\n",
       "      <td>56920.0</td>\n",
       "      <td>NaN</td>\n",
       "      <td>NaN</td>\n",
       "      <td>0.0</td>\n",
       "      <td>NaN</td>\n",
       "      <td>2881220.0</td>\n",
       "      <td>NaN</td>\n",
       "      <td>19198.0</td>\n",
       "      <td>NaN</td>\n",
       "      <td>NaN</td>\n",
       "      <td>NaN</td>\n",
       "    </tr>\n",
       "    <tr>\n",
       "      <th>12</th>\n",
       "      <td>2012.0</td>\n",
       "      <td>102732.0</td>\n",
       "      <td>13635.0</td>\n",
       "      <td>NaN</td>\n",
       "      <td>6797.0</td>\n",
       "      <td>54578.0</td>\n",
       "      <td>NaN</td>\n",
       "      <td>NaN</td>\n",
       "      <td>0.0</td>\n",
       "      <td>NaN</td>\n",
       "      <td>1887580.0</td>\n",
       "      <td>NaN</td>\n",
       "      <td>23356.0</td>\n",
       "      <td>NaN</td>\n",
       "      <td>NaN</td>\n",
       "      <td>NaN</td>\n",
       "    </tr>\n",
       "    <tr>\n",
       "      <th>13</th>\n",
       "      <td>2013.0</td>\n",
       "      <td>97270.0</td>\n",
       "      <td>16679.0</td>\n",
       "      <td>NaN</td>\n",
       "      <td>4804.0</td>\n",
       "      <td>31192.0</td>\n",
       "      <td>NaN</td>\n",
       "      <td>NaN</td>\n",
       "      <td>0.0</td>\n",
       "      <td>NaN</td>\n",
       "      <td>2196139.0</td>\n",
       "      <td>NaN</td>\n",
       "      <td>21744.0</td>\n",
       "      <td>NaN</td>\n",
       "      <td>NaN</td>\n",
       "      <td>NaN</td>\n",
       "    </tr>\n",
       "    <tr>\n",
       "      <th>14</th>\n",
       "      <td>2014.0</td>\n",
       "      <td>66660.0</td>\n",
       "      <td>14309.0</td>\n",
       "      <td>NaN</td>\n",
       "      <td>4955.0</td>\n",
       "      <td>37882.0</td>\n",
       "      <td>NaN</td>\n",
       "      <td>NaN</td>\n",
       "      <td>0.0</td>\n",
       "      <td>NaN</td>\n",
       "      <td>2389936.0</td>\n",
       "      <td>NaN</td>\n",
       "      <td>19198.0</td>\n",
       "      <td>NaN</td>\n",
       "      <td>NaN</td>\n",
       "      <td>NaN</td>\n",
       "    </tr>\n",
       "    <tr>\n",
       "      <th>2</th>\n",
       "      <td>2002.0</td>\n",
       "      <td>0.0</td>\n",
       "      <td>12718.0</td>\n",
       "      <td>NaN</td>\n",
       "      <td>4506.0</td>\n",
       "      <td>43833.0</td>\n",
       "      <td>NaN</td>\n",
       "      <td>NaN</td>\n",
       "      <td>290.0</td>\n",
       "      <td>NaN</td>\n",
       "      <td>1455195.0</td>\n",
       "      <td>NaN</td>\n",
       "      <td>12158.0</td>\n",
       "      <td>NaN</td>\n",
       "      <td>NaN</td>\n",
       "      <td>NaN</td>\n",
       "    </tr>\n",
       "    <tr>\n",
       "      <th>9</th>\n",
       "      <td>2009.0</td>\n",
       "      <td>45431.0</td>\n",
       "      <td>21098.0</td>\n",
       "      <td>NaN</td>\n",
       "      <td>4804.0</td>\n",
       "      <td>37882.0</td>\n",
       "      <td>NaN</td>\n",
       "      <td>NaN</td>\n",
       "      <td>344.0</td>\n",
       "      <td>NaN</td>\n",
       "      <td>2196780.0</td>\n",
       "      <td>NaN</td>\n",
       "      <td>21548.0</td>\n",
       "      <td>NaN</td>\n",
       "      <td>NaN</td>\n",
       "      <td>NaN</td>\n",
       "    </tr>\n",
       "    <tr>\n",
       "      <th>0</th>\n",
       "      <td>2000.0</td>\n",
       "      <td>0.0</td>\n",
       "      <td>17994.0</td>\n",
       "      <td>NaN</td>\n",
       "      <td>2475.0</td>\n",
       "      <td>35427.0</td>\n",
       "      <td>NaN</td>\n",
       "      <td>NaN</td>\n",
       "      <td>10000.0</td>\n",
       "      <td>NaN</td>\n",
       "      <td>8932218.0</td>\n",
       "      <td>NaN</td>\n",
       "      <td>10757.0</td>\n",
       "      <td>NaN</td>\n",
       "      <td>NaN</td>\n",
       "      <td>NaN</td>\n",
       "    </tr>\n",
       "    <tr>\n",
       "      <th>3</th>\n",
       "      <td>2003.0</td>\n",
       "      <td>0.0</td>\n",
       "      <td>17608.0</td>\n",
       "      <td>NaN</td>\n",
       "      <td>4722.0</td>\n",
       "      <td>53353.0</td>\n",
       "      <td>NaN</td>\n",
       "      <td>NaN</td>\n",
       "      <td>10576.0</td>\n",
       "      <td>NaN</td>\n",
       "      <td>1600288.0</td>\n",
       "      <td>NaN</td>\n",
       "      <td>18780.0</td>\n",
       "      <td>NaN</td>\n",
       "      <td>NaN</td>\n",
       "      <td>NaN</td>\n",
       "    </tr>\n",
       "    <tr>\n",
       "      <th>1</th>\n",
       "      <td>2001.0</td>\n",
       "      <td>0.0</td>\n",
       "      <td>12540.0</td>\n",
       "      <td>NaN</td>\n",
       "      <td>4157.0</td>\n",
       "      <td>39180.0</td>\n",
       "      <td>NaN</td>\n",
       "      <td>NaN</td>\n",
       "      <td>12333.0</td>\n",
       "      <td>NaN</td>\n",
       "      <td>1116871.0</td>\n",
       "      <td>NaN</td>\n",
       "      <td>16297.0</td>\n",
       "      <td>NaN</td>\n",
       "      <td>NaN</td>\n",
       "      <td>NaN</td>\n",
       "    </tr>\n",
       "    <tr>\n",
       "      <th>5</th>\n",
       "      <td>2005.0</td>\n",
       "      <td>0.0</td>\n",
       "      <td>15441.0</td>\n",
       "      <td>NaN</td>\n",
       "      <td>8767.0</td>\n",
       "      <td>49796.0</td>\n",
       "      <td>NaN</td>\n",
       "      <td>NaN</td>\n",
       "      <td>14588.0</td>\n",
       "      <td>NaN</td>\n",
       "      <td>151005.0</td>\n",
       "      <td>NaN</td>\n",
       "      <td>25870.0</td>\n",
       "      <td>NaN</td>\n",
       "      <td>NaN</td>\n",
       "      <td>NaN</td>\n",
       "    </tr>\n",
       "    <tr>\n",
       "      <th>11</th>\n",
       "      <td>2011.0</td>\n",
       "      <td>76645.0</td>\n",
       "      <td>13115.0</td>\n",
       "      <td>NaN</td>\n",
       "      <td>4872.0</td>\n",
       "      <td>44174.0</td>\n",
       "      <td>NaN</td>\n",
       "      <td>NaN</td>\n",
       "      <td>20364.0</td>\n",
       "      <td>NaN</td>\n",
       "      <td>2211889.0</td>\n",
       "      <td>NaN</td>\n",
       "      <td>27297.0</td>\n",
       "      <td>NaN</td>\n",
       "      <td>NaN</td>\n",
       "      <td>NaN</td>\n",
       "    </tr>\n",
       "    <tr>\n",
       "      <th>7</th>\n",
       "      <td>2007.0</td>\n",
       "      <td>0.0</td>\n",
       "      <td>14005.0</td>\n",
       "      <td>NaN</td>\n",
       "      <td>6586.0</td>\n",
       "      <td>54578.0</td>\n",
       "      <td>NaN</td>\n",
       "      <td>NaN</td>\n",
       "      <td>25421.0</td>\n",
       "      <td>NaN</td>\n",
       "      <td>2215898.0</td>\n",
       "      <td>NaN</td>\n",
       "      <td>26968.0</td>\n",
       "      <td>NaN</td>\n",
       "      <td>NaN</td>\n",
       "      <td>NaN</td>\n",
       "    </tr>\n",
       "    <tr>\n",
       "      <th>6</th>\n",
       "      <td>2006.0</td>\n",
       "      <td>0.0</td>\n",
       "      <td>14951.0</td>\n",
       "      <td>NaN</td>\n",
       "      <td>7507.0</td>\n",
       "      <td>39777.0</td>\n",
       "      <td>NaN</td>\n",
       "      <td>NaN</td>\n",
       "      <td>40080.0</td>\n",
       "      <td>NaN</td>\n",
       "      <td>210487.0</td>\n",
       "      <td>NaN</td>\n",
       "      <td>21493.0</td>\n",
       "      <td>NaN</td>\n",
       "      <td>NaN</td>\n",
       "      <td>NaN</td>\n",
       "    </tr>\n",
       "    <tr>\n",
       "      <th>4</th>\n",
       "      <td>2004.0</td>\n",
       "      <td>0.0</td>\n",
       "      <td>16010.0</td>\n",
       "      <td>NaN</td>\n",
       "      <td>8050.0</td>\n",
       "      <td>47302.0</td>\n",
       "      <td>NaN</td>\n",
       "      <td>NaN</td>\n",
       "      <td>40409.0</td>\n",
       "      <td>NaN</td>\n",
       "      <td>2002171.0</td>\n",
       "      <td>NaN</td>\n",
       "      <td>25518.0</td>\n",
       "      <td>NaN</td>\n",
       "      <td>NaN</td>\n",
       "      <td>NaN</td>\n",
       "    </tr>\n",
       "    <tr>\n",
       "      <th>15</th>\n",
       "      <td>NaN</td>\n",
       "      <td>NaN</td>\n",
       "      <td>NaN</td>\n",
       "      <td>NaN</td>\n",
       "      <td>NaN</td>\n",
       "      <td>NaN</td>\n",
       "      <td>NaN</td>\n",
       "      <td>NaN</td>\n",
       "      <td>11627.0</td>\n",
       "      <td>NaN</td>\n",
       "      <td>NaN</td>\n",
       "      <td>NaN</td>\n",
       "      <td>NaN</td>\n",
       "      <td>NaN</td>\n",
       "      <td>NaN</td>\n",
       "      <td>NaN</td>\n",
       "    </tr>\n",
       "  </tbody>\n",
       "</table>\n",
       "</div>"
      ],
      "text/plain": [
       "      Year  Agriculture  Aluminum Cans  Unnamed: 3  Anti-freeze  \\\n",
       "8   2008.0      31800.0        12842.0         NaN       5194.0   \n",
       "10  2010.0      55689.0        13655.0         NaN       4955.0   \n",
       "12  2012.0     102732.0        13635.0         NaN       6797.0   \n",
       "13  2013.0      97270.0        16679.0         NaN       4804.0   \n",
       "14  2014.0      66660.0        14309.0         NaN       4955.0   \n",
       "2   2002.0          0.0        12718.0         NaN       4506.0   \n",
       "9   2009.0      45431.0        21098.0         NaN       4804.0   \n",
       "0   2000.0          0.0        17994.0         NaN       2475.0   \n",
       "3   2003.0          0.0        17608.0         NaN       4722.0   \n",
       "1   2001.0          0.0        12540.0         NaN       4157.0   \n",
       "5   2005.0          0.0        15441.0         NaN       8767.0   \n",
       "11  2011.0      76645.0        13115.0         NaN       4872.0   \n",
       "7   2007.0          0.0        14005.0         NaN       6586.0   \n",
       "6   2006.0          0.0        14951.0         NaN       7507.0   \n",
       "4   2004.0          0.0        16010.0         NaN       8050.0   \n",
       "15     NaN          NaN            NaN         NaN          NaN   \n",
       "\n",
       "    Appliances/White Goods  Unnamed: 6  Unnamed: 7   target  Unnamed: 9  \\\n",
       "8                  31193.0         NaN         NaN      0.0         NaN   \n",
       "10                 56920.0         NaN         NaN      0.0         NaN   \n",
       "12                 54578.0         NaN         NaN      0.0         NaN   \n",
       "13                 31192.0         NaN         NaN      0.0         NaN   \n",
       "14                 37882.0         NaN         NaN      0.0         NaN   \n",
       "2                  43833.0         NaN         NaN    290.0         NaN   \n",
       "9                  37882.0         NaN         NaN    344.0         NaN   \n",
       "0                  35427.0         NaN         NaN  10000.0         NaN   \n",
       "3                  53353.0         NaN         NaN  10576.0         NaN   \n",
       "1                  39180.0         NaN         NaN  12333.0         NaN   \n",
       "5                  49796.0         NaN         NaN  14588.0         NaN   \n",
       "11                 44174.0         NaN         NaN  20364.0         NaN   \n",
       "7                  54578.0         NaN         NaN  25421.0         NaN   \n",
       "6                  39777.0         NaN         NaN  40080.0         NaN   \n",
       "4                  47302.0         NaN         NaN  40409.0         NaN   \n",
       "15                     NaN         NaN         NaN  11627.0         NaN   \n",
       "\n",
       "    Asphalt/Concrete  Unnamed: 11  Batteries  Unnamed: 13  Unnamed: 14  \\\n",
       "8          2354878.0          NaN    26785.0          NaN          NaN   \n",
       "10         2881220.0          NaN    19198.0          NaN          NaN   \n",
       "12         1887580.0          NaN    23356.0          NaN          NaN   \n",
       "13         2196139.0          NaN    21744.0          NaN          NaN   \n",
       "14         2389936.0          NaN    19198.0          NaN          NaN   \n",
       "2          1455195.0          NaN    12158.0          NaN          NaN   \n",
       "9          2196780.0          NaN    21548.0          NaN          NaN   \n",
       "0          8932218.0          NaN    10757.0          NaN          NaN   \n",
       "3          1600288.0          NaN    18780.0          NaN          NaN   \n",
       "1          1116871.0          NaN    16297.0          NaN          NaN   \n",
       "5           151005.0          NaN    25870.0          NaN          NaN   \n",
       "11         2211889.0          NaN    27297.0          NaN          NaN   \n",
       "7          2215898.0          NaN    26968.0          NaN          NaN   \n",
       "6           210487.0          NaN    21493.0          NaN          NaN   \n",
       "4          2002171.0          NaN    25518.0          NaN          NaN   \n",
       "15               NaN          NaN        NaN          NaN          NaN   \n",
       "\n",
       "    Unnamed: 15  \n",
       "8           NaN  \n",
       "10          NaN  \n",
       "12          NaN  \n",
       "13          NaN  \n",
       "14          NaN  \n",
       "2           NaN  \n",
       "9           NaN  \n",
       "0           NaN  \n",
       "3           NaN  \n",
       "1           NaN  \n",
       "5           NaN  \n",
       "11          NaN  \n",
       "7           NaN  \n",
       "6           NaN  \n",
       "4           NaN  \n",
       "15          NaN  "
      ]
     },
     "execution_count": 24,
     "metadata": {},
     "output_type": "execute_result"
    }
   ],
   "source": [
    "#substitute mean value in the place of outliers\n",
    "#so calculate mean of all values other than the outliers\n",
    "mid=np.mean(data['target'][true_index])\n",
    "mid\n",
    "\n",
    "#replace all outliers with mean value, i.e False index\n",
    "#values to be replaced\n",
    "false_index=~ true_index\n",
    "df['target'].values[false_index]=mid\n",
    "df\n"
   ]
  },
  {
   "cell_type": "markdown",
   "id": "b58a811b-0986-4688-b7b0-d8c70c19b7a7",
   "metadata": {},
   "source": [
    "# Note:\n",
    "* Outliers are abnormal data points that are distinct from the normal data.\n",
    "* Outliers can be detected by sorting the data.when the data is sorted,outliers can be found either in the beginning or at the extreme ending of the data.\n",
    "* Outliers are displayed as data points away from normal data points in the graphs or plots.\n",
    "* Inter Quartile Range(IQR)method shows upper and lower limits of the data.The data points not in these limits will become outliers.\n",
    "* Due to outliers,the final results or conclusions drawn from the data will not be correct.\n",
    "* we have to remove the outliers from the dataset or replace them with suitable values."
   ]
  }
 ],
 "metadata": {
  "kernelspec": {
   "display_name": "Python 3 (ipykernel)",
   "language": "python",
   "name": "python3"
  },
  "language_info": {
   "codemirror_mode": {
    "name": "ipython",
    "version": 3
   },
   "file_extension": ".py",
   "mimetype": "text/x-python",
   "name": "python",
   "nbconvert_exporter": "python",
   "pygments_lexer": "ipython3",
   "version": "3.11.7"
  }
 },
 "nbformat": 4,
 "nbformat_minor": 5
}
